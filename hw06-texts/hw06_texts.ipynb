{
 "cells": [
  {
   "cell_type": "markdown",
   "metadata": {
    "id": "xrvOD02o3HvH"
   },
   "source": [
    "# Домашнее задание 6: классификация текстов"
   ]
  },
  {
   "cell_type": "markdown",
   "metadata": {
    "id": "sxwj_Iie3HvJ"
   },
   "source": [
    "В этом домашнем задании вам предстоит построить классификатор текстов!\n",
    "\n",
    "Данные мы будем использовать из Kaggle соревнования: https://www.kaggle.com/competitions/nlp-getting-started/data \n",
    "\n",
    "\n",
    "Оттуда надо скачать файл train.csv. На обучающую и тестовую выборки его поделим кодом ниже, менять его не надо!"
   ]
  },
  {
   "cell_type": "markdown",
   "metadata": {
    "id": "qQVgqLg93HvJ"
   },
   "source": [
    "Мы будем работать с датасетом постов из твиттера. Нам предстоит решать задачу бинарной классификации - определять содержатся ли в твитте информация о настоящей катастрофе/инциденте или нет."
   ]
  },
  {
   "cell_type": "code",
   "execution_count": 1,
   "metadata": {
    "id": "TcjEYh7R3HvK",
    "ExecuteTime": {
     "end_time": "2024-05-24T17:53:51.396424Z",
     "start_time": "2024-05-24T17:53:50.822423Z"
    }
   },
   "outputs": [],
   "source": [
    "import numpy as np\n",
    "import pandas as pd\n",
    "from typing import List\n",
    "import matplotlib.pyplot as plt\n",
    "import seaborn as sns\n",
    "from string import punctuation\n",
    "\n",
    "from nltk import SnowballStemmer"
   ]
  },
  {
   "cell_type": "code",
   "execution_count": 2,
   "metadata": {
    "id": "mjwffGiB3HvK",
    "ExecuteTime": {
     "end_time": "2024-05-24T17:53:51.428250Z",
     "start_time": "2024-05-24T17:53:51.396424Z"
    }
   },
   "outputs": [],
   "source": [
    "data = pd.read_csv('train.csv')"
   ]
  },
  {
   "cell_type": "code",
   "execution_count": 3,
   "metadata": {
    "colab": {
     "base_uri": "https://localhost:8080/",
     "height": 206
    },
    "id": "v0uUoFTN3HvK",
    "outputId": "0d37d677-a00d-449c-8f86-6f85dce2ef4a",
    "ExecuteTime": {
     "end_time": "2024-05-24T17:53:51.459980Z",
     "start_time": "2024-05-24T17:53:51.430927Z"
    }
   },
   "outputs": [
    {
     "data": {
      "text/plain": "   id keyword location                                               text  \\\n0   1     NaN      NaN  Our Deeds are the Reason of this #earthquake M...   \n1   4     NaN      NaN             Forest fire near La Ronge Sask. Canada   \n2   5     NaN      NaN  All residents asked to 'shelter in place' are ...   \n3   6     NaN      NaN  13,000 people receive #wildfires evacuation or...   \n4   7     NaN      NaN  Just got sent this photo from Ruby #Alaska as ...   \n\n   target  \n0       1  \n1       1  \n2       1  \n3       1  \n4       1  ",
      "text/html": "<div>\n<style scoped>\n    .dataframe tbody tr th:only-of-type {\n        vertical-align: middle;\n    }\n\n    .dataframe tbody tr th {\n        vertical-align: top;\n    }\n\n    .dataframe thead th {\n        text-align: right;\n    }\n</style>\n<table border=\"1\" class=\"dataframe\">\n  <thead>\n    <tr style=\"text-align: right;\">\n      <th></th>\n      <th>id</th>\n      <th>keyword</th>\n      <th>location</th>\n      <th>text</th>\n      <th>target</th>\n    </tr>\n  </thead>\n  <tbody>\n    <tr>\n      <th>0</th>\n      <td>1</td>\n      <td>NaN</td>\n      <td>NaN</td>\n      <td>Our Deeds are the Reason of this #earthquake M...</td>\n      <td>1</td>\n    </tr>\n    <tr>\n      <th>1</th>\n      <td>4</td>\n      <td>NaN</td>\n      <td>NaN</td>\n      <td>Forest fire near La Ronge Sask. Canada</td>\n      <td>1</td>\n    </tr>\n    <tr>\n      <th>2</th>\n      <td>5</td>\n      <td>NaN</td>\n      <td>NaN</td>\n      <td>All residents asked to 'shelter in place' are ...</td>\n      <td>1</td>\n    </tr>\n    <tr>\n      <th>3</th>\n      <td>6</td>\n      <td>NaN</td>\n      <td>NaN</td>\n      <td>13,000 people receive #wildfires evacuation or...</td>\n      <td>1</td>\n    </tr>\n    <tr>\n      <th>4</th>\n      <td>7</td>\n      <td>NaN</td>\n      <td>NaN</td>\n      <td>Just got sent this photo from Ruby #Alaska as ...</td>\n      <td>1</td>\n    </tr>\n  </tbody>\n</table>\n</div>"
     },
     "execution_count": 3,
     "metadata": {},
     "output_type": "execute_result"
    }
   ],
   "source": [
    "data.head()"
   ]
  },
  {
   "cell_type": "code",
   "execution_count": 4,
   "metadata": {
    "id": "f49NdWY23HvL",
    "ExecuteTime": {
     "end_time": "2024-05-24T17:53:51.475888Z",
     "start_time": "2024-05-24T17:53:51.460488Z"
    }
   },
   "outputs": [],
   "source": [
    "from sklearn.model_selection import train_test_split\n",
    "\n",
    "train, test = train_test_split(data, test_size=0.3, random_state=42)"
   ]
  },
  {
   "cell_type": "markdown",
   "metadata": {
    "id": "YlLemInT3HvL"
   },
   "source": [
    "## Задание 1 (0.5 балла)\n",
    "\n",
    "Выведете на экран информацию о пропусках в данных. Если пропуски присутствуют заполните их пустой строкой."
   ]
  },
  {
   "cell_type": "code",
   "source": [
    "# -- YOUR CODE HERE --\n",
    "print(train.isna().sum().sum(), test.isna().sum().sum())\n",
    "train.fillna('', inplace=True)\n",
    "test.fillna('', inplace=True)\n",
    "print(train.isna().sum().sum(), test.isna().sum().sum())"
   ],
   "metadata": {
    "id": "96aJxmkV4105",
    "ExecuteTime": {
     "end_time": "2024-05-24T17:53:51.507938Z",
     "start_time": "2024-05-24T17:53:51.475888Z"
    }
   },
   "execution_count": 5,
   "outputs": [
    {
     "name": "stdout",
     "output_type": "stream",
     "text": [
      "1804 790\n",
      "0 0\n"
     ]
    }
   ]
  },
  {
   "cell_type": "markdown",
   "metadata": {
    "id": "A8CPBUal3HvL"
   },
   "source": [
    "## Задание 2 (1 балл)\n",
    "Давайте немного посмотрим на наши данные. Визуализируйте (где явно просят) или выведете информацию о следующем:\n",
    "\n",
    "1. Какое распределение классов в обучающей выборке?\n"
   ]
  },
  {
   "cell_type": "code",
   "source": [
    "# -- YOUR CODE HERE --\n",
    "train.target.value_counts()"
   ],
   "metadata": {
    "id": "WvJ_EU9o5BGm",
    "ExecuteTime": {
     "end_time": "2024-05-24T17:53:51.524074Z",
     "start_time": "2024-05-24T17:53:51.507938Z"
    }
   },
   "execution_count": 6,
   "outputs": [
    {
     "data": {
      "text/plain": "target\n0    3024\n1    2305\nName: count, dtype: int64"
     },
     "execution_count": 6,
     "metadata": {},
     "output_type": "execute_result"
    }
   ]
  },
  {
   "cell_type": "markdown",
   "source": [
    "2. Посмотрите на колонку \"keyword\" - возьмите 10 наиболее встречающихся значений, постройте ступенчатую диаграмму распределения классов в зависимости от значения keyword, сделайте выводы."
   ],
   "metadata": {
    "id": "f08KScbP5q2y"
   }
  },
  {
   "cell_type": "code",
   "execution_count": 7,
   "outputs": [
    {
     "data": {
      "text/plain": "<Figure size 640x480 with 1 Axes>",
      "image/png": "[encoded data removed]"
     },
     "metadata": {},
     "output_type": "display_data"
    }
   ],
   "source": [
    "train.keyword.value_counts()[1:11].keys()\n",
    "train_popular_keywords = train[train['keyword'].isin(train.keyword.value_counts()[1:11].keys())][['keyword', 'target']]\n",
    "sns.histplot(train_popular_keywords, x='keyword', hue='target')\n",
    "sns.set(rc={'figure.figsize': (12, 8)})"
   ],
   "metadata": {
    "collapsed": false,
    "ExecuteTime": {
     "end_time": "2024-05-24T17:53:51.844073Z",
     "start_time": "2024-05-24T17:53:51.526041Z"
    }
   }
  },
  {
   "cell_type": "markdown",
   "source": [
    "**Выводы**: Слова siren, deluge, fatality, tsunami, fear чаще всего сигнализируют нам о нулевом классе. Слово wreckage однозначно указывает на первый класс. Слово refugees чаще всего указывает на первый класс. Остальные же слова, почти равномерно относятся как к первому так и ко второму классам."
   ],
   "metadata": {
    "id": "l4al3g9E-P09"
   }
  },
  {
   "cell_type": "markdown",
   "metadata": {
    "id": "c006nNBP3HvM"
   },
   "source": [
    "## Задание 3 (0.5 балла) \n",
    "\n",
    "В этом задании предлагается объединить все три текстовых столбца в один (просто сконкатенировать cтроки) и убрать столбец с индексом."
   ]
  },
  {
   "cell_type": "code",
   "source": [
    "train.loc[[6590, 7122, 2769]]"
   ],
   "metadata": {
    "colab": {
     "base_uri": "https://localhost:8080/",
     "height": 143
    },
    "id": "GdF9gFmL-c0r",
    "outputId": "ebe008b7-4d0e-4bc2-89f3-60a575c1b1fd",
    "ExecuteTime": {
     "end_time": "2024-05-24T17:53:51.859739Z",
     "start_time": "2024-05-24T17:53:51.845584Z"
    }
   },
   "execution_count": 8,
   "outputs": [
    {
     "data": {
      "text/plain": "         id          keyword      location  \\\n6590   9436        survivors  Marietta, GA   \n7122  10203  violent%20storm                 \n2769   3980      devastation  Atlanta g.a.   \n\n                                                   text  target  \n6590  Stemming from my #Cubs talk- the team rosters ...       1  \n7122  If you were the NWS wth a rotating storm w/ a ...       1  \n2769  http://t.co/Gxgm1T3W0J From Devastation to Ela...       0  ",
      "text/html": "<div>\n<style scoped>\n    .dataframe tbody tr th:only-of-type {\n        vertical-align: middle;\n    }\n\n    .dataframe tbody tr th {\n        vertical-align: top;\n    }\n\n    .dataframe thead th {\n        text-align: right;\n    }\n</style>\n<table border=\"1\" class=\"dataframe\">\n  <thead>\n    <tr style=\"text-align: right;\">\n      <th></th>\n      <th>id</th>\n      <th>keyword</th>\n      <th>location</th>\n      <th>text</th>\n      <th>target</th>\n    </tr>\n  </thead>\n  <tbody>\n    <tr>\n      <th>6590</th>\n      <td>9436</td>\n      <td>survivors</td>\n      <td>Marietta, GA</td>\n      <td>Stemming from my #Cubs talk- the team rosters ...</td>\n      <td>1</td>\n    </tr>\n    <tr>\n      <th>7122</th>\n      <td>10203</td>\n      <td>violent%20storm</td>\n      <td></td>\n      <td>If you were the NWS wth a rotating storm w/ a ...</td>\n      <td>1</td>\n    </tr>\n    <tr>\n      <th>2769</th>\n      <td>3980</td>\n      <td>devastation</td>\n      <td>Atlanta g.a.</td>\n      <td>http://t.co/Gxgm1T3W0J From Devastation to Ela...</td>\n      <td>0</td>\n    </tr>\n  </tbody>\n</table>\n</div>"
     },
     "execution_count": 8,
     "metadata": {},
     "output_type": "execute_result"
    }
   ]
  },
  {
   "cell_type": "code",
   "source": [
    "# -- YOUR CODE HERE --\n",
    "train_new = pd.DataFrame()\n",
    "train_new['text'] = train[['keyword', 'location', 'text']].agg(' '.join, axis=1)\n",
    "train_new['target'] = train['target']\n",
    "\n",
    "test_new = pd.DataFrame()\n",
    "test_new['text'] = test[['keyword', 'location', 'text']].agg(' '.join, axis=1)\n",
    "test_new['target'] = test['target']\n",
    "train_new"
   ],
   "metadata": {
    "id": "lwwJKX_l-eoh",
    "ExecuteTime": {
     "end_time": "2024-05-24T17:53:51.923076Z",
     "start_time": "2024-05-24T17:53:51.861249Z"
    }
   },
   "execution_count": 9,
   "outputs": [
    {
     "data": {
      "text/plain": "                                                   text  target\n1186  bridge%20collapse  Ashes 2015: AustraliaÛªs c...       0\n4071  hail Carol Stream, Illinois GREAT MICHIGAN TEC...       1\n5461  police Houston  CNN: Tennessee movie theater s...       1\n5787  rioting  Still rioting in a couple of hours le...       1\n7445  wounds Lake Highlands Crack in the path where ...       0\n...                                                 ...     ...\n5226  obliteration Merica! @Eganator2000 There aren'...       0\n5390  panic  just had a panic attack bc I don't have...       0\n860   blood  Omron HEM-712C Automatic Blood Pressure...       0\n7603    Officials say a quarantine is in place at an...       1\n7270  whirlwind Stamford & Cork (& Shropshire) I mov...       1\n\n[5329 rows x 2 columns]",
      "text/html": "<div>\n<style scoped>\n    .dataframe tbody tr th:only-of-type {\n        vertical-align: middle;\n    }\n\n    .dataframe tbody tr th {\n        vertical-align: top;\n    }\n\n    .dataframe thead th {\n        text-align: right;\n    }\n</style>\n<table border=\"1\" class=\"dataframe\">\n  <thead>\n    <tr style=\"text-align: right;\">\n      <th></th>\n      <th>text</th>\n      <th>target</th>\n    </tr>\n  </thead>\n  <tbody>\n    <tr>\n      <th>1186</th>\n      <td>bridge%20collapse  Ashes 2015: AustraliaÛªs c...</td>\n      <td>0</td>\n    </tr>\n    <tr>\n      <th>4071</th>\n      <td>hail Carol Stream, Illinois GREAT MICHIGAN TEC...</td>\n      <td>1</td>\n    </tr>\n    <tr>\n      <th>5461</th>\n      <td>police Houston  CNN: Tennessee movie theater s...</td>\n      <td>1</td>\n    </tr>\n    <tr>\n      <th>5787</th>\n      <td>rioting  Still rioting in a couple of hours le...</td>\n      <td>1</td>\n    </tr>\n    <tr>\n      <th>7445</th>\n      <td>wounds Lake Highlands Crack in the path where ...</td>\n      <td>0</td>\n    </tr>\n    <tr>\n      <th>...</th>\n      <td>...</td>\n      <td>...</td>\n    </tr>\n    <tr>\n      <th>5226</th>\n      <td>obliteration Merica! @Eganator2000 There aren'...</td>\n      <td>0</td>\n    </tr>\n    <tr>\n      <th>5390</th>\n      <td>panic  just had a panic attack bc I don't have...</td>\n      <td>0</td>\n    </tr>\n    <tr>\n      <th>860</th>\n      <td>blood  Omron HEM-712C Automatic Blood Pressure...</td>\n      <td>0</td>\n    </tr>\n    <tr>\n      <th>7603</th>\n      <td>Officials say a quarantine is in place at an...</td>\n      <td>1</td>\n    </tr>\n    <tr>\n      <th>7270</th>\n      <td>whirlwind Stamford &amp; Cork (&amp; Shropshire) I mov...</td>\n      <td>1</td>\n    </tr>\n  </tbody>\n</table>\n<p>5329 rows × 2 columns</p>\n</div>"
     },
     "execution_count": 9,
     "metadata": {},
     "output_type": "execute_result"
    }
   ]
  },
  {
   "cell_type": "code",
   "source": [
    "train_new.loc[[6590, 7122, 2769]]"
   ],
   "metadata": {
    "colab": {
     "base_uri": "https://localhost:8080/",
     "height": 143
    },
    "id": "jk7P70XX_CpT",
    "outputId": "5cf01b29-8ada-46d7-f7ee-74e7aed37996",
    "ExecuteTime": {
     "end_time": "2024-05-24T17:53:51.939131Z",
     "start_time": "2024-05-24T17:53:51.923076Z"
    }
   },
   "execution_count": 10,
   "outputs": [
    {
     "data": {
      "text/plain": "                                                   text  target\n6590  survivors Marietta, GA Stemming from my #Cubs ...       1\n7122  violent%20storm  If you were the NWS wth a rot...       1\n2769  devastation Atlanta g.a. http://t.co/Gxgm1T3W0...       0",
      "text/html": "<div>\n<style scoped>\n    .dataframe tbody tr th:only-of-type {\n        vertical-align: middle;\n    }\n\n    .dataframe tbody tr th {\n        vertical-align: top;\n    }\n\n    .dataframe thead th {\n        text-align: right;\n    }\n</style>\n<table border=\"1\" class=\"dataframe\">\n  <thead>\n    <tr style=\"text-align: right;\">\n      <th></th>\n      <th>text</th>\n      <th>target</th>\n    </tr>\n  </thead>\n  <tbody>\n    <tr>\n      <th>6590</th>\n      <td>survivors Marietta, GA Stemming from my #Cubs ...</td>\n      <td>1</td>\n    </tr>\n    <tr>\n      <th>7122</th>\n      <td>violent%20storm  If you were the NWS wth a rot...</td>\n      <td>1</td>\n    </tr>\n    <tr>\n      <th>2769</th>\n      <td>devastation Atlanta g.a. http://t.co/Gxgm1T3W0...</td>\n      <td>0</td>\n    </tr>\n  </tbody>\n</table>\n</div>"
     },
     "execution_count": 10,
     "metadata": {},
     "output_type": "execute_result"
    }
   ]
  },
  {
   "cell_type": "markdown",
   "metadata": {
    "id": "ViXdGTxP3HvM"
   },
   "source": [
    "## Задание 4 (0.5 балла)\n",
    "\n",
    "Далее мы будем пока работать только с train частью.\n",
    "\n",
    "1. Предобработайте данные (train часть) с помощью CountVectorizer.\n",
    "2. Какого размера получилась матрица?\n"
   ]
  },
  {
   "cell_type": "code",
   "source": [
    "from sklearn.feature_extraction.text import CountVectorizer\n",
    "\n",
    "# -- YOUR CODE HERE --\n",
    "vectorizer = CountVectorizer()\n",
    "train_new_vectorised = vectorizer.fit_transform(train_new['text'])\n",
    "print('Размер матрицы', *train_new_vectorised.shape)\n"
   ],
   "metadata": {
    "id": "oB1MTqUVAbPA",
    "ExecuteTime": {
     "end_time": "2024-05-24T17:53:52.061938Z",
     "start_time": "2024-05-24T17:53:51.939131Z"
    }
   },
   "execution_count": 11,
   "outputs": [
    {
     "name": "stdout",
     "output_type": "stream",
     "text": [
      "Размер матрицы 5329 18455\n"
     ]
    }
   ]
  },
  {
   "cell_type": "markdown",
   "metadata": {
    "id": "A4waLlnC3HvM"
   },
   "source": [
    "## Задание 5 (1 балл)\n",
    "\n",
    "В предыдущем пункте у вас должна была получиться достаточно большая матрица.\n",
    "Если вы взгляните на текст, то увидете, что там есть множество специальных символов, ссылок и прочего мусора.\n",
    "\n",
    "Давайте также посмотрим на словарь, который получился в результате построения CountVectorizer, его можно найти в поле vocabulary_ инстанса этого класса. Давайте напишем функцию, которая печает ответы на следующие вопросы:\n",
    "\n",
    "1. Найдите в этом словаре все слова, которые содержат цифры. Сколько таких слов нашлось?\n",
    "\n",
    "2. Найдите все слова, которые содержат символы пунктуации. Сколько таких слов нашлось? \n",
    "\n",
    "3. Сколько хэштегов (токен начинается на #) и упоминаний (токен начинается на @) осталось в словаре?"
   ]
  },
  {
   "cell_type": "code",
   "source": [
    "def contains_digit(s: str) -> bool:\n",
    "    # Проверка, содержит ли слово цифры\n",
    "    # -- YOUR CODE HERE --\n",
    "    return any(i.isdigit() for i in s)\n",
    "\n",
    "def contains_punctuation(s: str) -> bool:\n",
    "    # Проверка, содержит ли слово пунктуацию\n",
    "    # -- YOUR CODE HERE --\n",
    "    return any(i in punctuation for i in s)\n",
    "\n",
    "def is_hashtag(s: str) -> bool:\n",
    "    # Проверка, является ли слово хэштегом\n",
    "    # -- YOUR CODE HERE --\n",
    "    return s[0] == '#'\n",
    "\n",
    "def is_mention(s: str) -> bool:\n",
    "    # Проверка, является ли слово упоминанием\n",
    "    # -- YOUR CODE HERE --\n",
    "    return s[0] == '@'\n",
    "\n",
    "def investigate_vocabulary(vocabulary):\n",
    "    # -- YOUR CODE HERE --\n",
    "    print('With digit:      ', # -- YOUR CODE HERE -- \n",
    "          sum(map(contains_digit, vocabulary)))\n",
    "    print('With punctuation:', # -- YOUR CODE HERE --\n",
    "          sum(map(contains_punctuation, vocabulary)))\n",
    "    print('Hashtags:        ', # -- YOUR CODE HERE --\n",
    "          sum(map(is_hashtag, vocabulary)))\n",
    "    print('Mentions:        ', # -- YOUR CODE HERE --\n",
    "          sum(map(is_mention, vocabulary)))\n",
    "\n",
    "\n"
   ],
   "metadata": {
    "id": "7PhQSWqcHhU8",
    "ExecuteTime": {
     "end_time": "2024-05-24T17:53:52.077968Z",
     "start_time": "2024-05-24T17:53:52.061938Z"
    }
   },
   "execution_count": 12,
   "outputs": []
  },
  {
   "cell_type": "code",
   "source": [
    "dummy_vocab = {'th1nk' : 0,\n",
    "               'think333' : 1,\n",
    "               'think.' : 2,\n",
    "               'th!nk' : 3,\n",
    "               'th...nk' : 4,\n",
    "               '#think' : 5,\n",
    "               '@think' : 6,\n",
    "               '@thinking':7,\n",
    "               '@nothink' : 8,\n",
    "               'think' : 9}\n",
    "investigate_vocabulary(dummy_vocab)\n"
   ],
   "metadata": {
    "colab": {
     "base_uri": "https://localhost:8080/"
    },
    "id": "s8hL5ZcQIdp6",
    "outputId": "c8b50455-38f2-455d-c9f6-96b03a7e09ce",
    "ExecuteTime": {
     "end_time": "2024-05-24T17:53:52.094060Z",
     "start_time": "2024-05-24T17:53:52.077968Z"
    }
   },
   "execution_count": 13,
   "outputs": [
    {
     "name": "stdout",
     "output_type": "stream",
     "text": [
      "With digit:       2\n",
      "With punctuation: 7\n",
      "Hashtags:         1\n",
      "Mentions:         3\n"
     ]
    }
   ]
  },
  {
   "cell_type": "code",
   "source": [
    "investigate_vocabulary(# -- YOUR CODE HERE --\n",
    "                       vectorizer.vocabulary_)"
   ],
   "metadata": {
    "id": "VpW8R_SuKR_l",
    "ExecuteTime": {
     "end_time": "2024-05-24T17:53:52.142172Z",
     "start_time": "2024-05-24T17:53:52.094060Z"
    }
   },
   "execution_count": 14,
   "outputs": [
    {
     "name": "stdout",
     "output_type": "stream",
     "text": [
      "With digit:       3812\n",
      "With punctuation: 315\n",
      "Hashtags:         0\n",
      "Mentions:         0\n"
     ]
    }
   ]
  },
  {
   "cell_type": "markdown",
   "metadata": {
    "id": "bfNLaxX93HvM"
   },
   "source": [
    "## Задание 6 (0.5 балла)\n",
    "\n",
    "Вспомним, что на семинаре по текстам мы узнали, что в nltk есть специальный токенизатор для текстов - TweetTokenizer. Попробуем применить CountVectorizer с этим токенизатором. Ответьте на все вопросы из предыдущего пункта для TweetTokenizer и сравните результаты."
   ]
  },
  {
   "cell_type": "code",
   "execution_count": 15,
   "metadata": {
    "id": "xnlRoXUS3HvM",
    "ExecuteTime": {
     "end_time": "2024-05-24T17:53:52.157863Z",
     "start_time": "2024-05-24T17:53:52.142172Z"
    }
   },
   "outputs": [],
   "source": [
    "from nltk.tokenize import TweetTokenizer\n",
    "# Чтобы узнать, какие параметры есть у этого токенайзера - используйте help(TweetTokenizer)\n",
    "# Для того, чтобы передать токенайзер в CountVectorizer используйте параметр tokenizer\n",
    "# help(tokenizer)"
   ]
  },
  {
   "cell_type": "code",
   "source": [
    "# -- YOUR CODE HERE --\n",
    "tokenizer = TweetTokenizer()\n",
    "vectorizer = CountVectorizer(tokenizer=tokenizer.tokenize)\n",
    "vectorizer.fit_transform(train_new.text)\n",
    "# vectorizer.vocabulary_"
   ],
   "metadata": {
    "id": "8lPMIf6UKccT",
    "ExecuteTime": {
     "end_time": "2024-05-24T17:53:52.795498Z",
     "start_time": "2024-05-24T17:53:52.157863Z"
    }
   },
   "execution_count": 16,
   "outputs": [
    {
     "name": "stderr",
     "output_type": "stream",
     "text": [
      "C:\\Users\\Амир\\PROGRAMMING\\input v tink\\.venv\\lib\\site-packages\\sklearn\\feature_extraction\\text.py:525: UserWarning: The parameter 'token_pattern' will not be used since 'tokenizer' is not None'\n",
      "  warnings.warn(\n"
     ]
    },
    {
     "data": {
      "text/plain": "<5329x19670 sparse matrix of type '<class 'numpy.int64'>'\n\twith 94563 stored elements in Compressed Sparse Row format>"
     },
     "execution_count": 16,
     "metadata": {},
     "output_type": "execute_result"
    }
   ]
  },
  {
   "cell_type": "code",
   "source": [
    "investigate_vocabulary(# -- YOUR CODE HERE --\n",
    "                       vectorizer.vocabulary_)"
   ],
   "metadata": {
    "id": "7oR5kNKVLLpm",
    "ExecuteTime": {
     "end_time": "2024-05-24T17:53:52.843675Z",
     "start_time": "2024-05-24T17:53:52.795498Z"
    }
   },
   "execution_count": 17,
   "outputs": [
    {
     "name": "stdout",
     "output_type": "stream",
     "text": [
      "With digit:       3939\n",
      "With punctuation: 7338\n",
      "Hashtags:         1470\n",
      "Mentions:         1679\n"
     ]
    }
   ]
  },
  {
   "cell_type": "markdown",
   "source": [
    "**Сравнение:** После добавления TweetTokenizer, CountVectorizer начал выделять упоминания и хэштэги. Кроме этого, в целом, выросли все показатели, в том числе выросло количество слов с числами и пунктуацией. "
   ],
   "metadata": {
    "id": "Wetr80-ILULV"
   }
  },
  {
   "cell_type": "markdown",
   "metadata": {
    "id": "6_k_-i1x3HvM"
   },
   "source": [
    "## Задание 7 (2 балла)\n",
    "\n",
    "В scikit-learn мы можем оценивать процесс подсчета матрицы через CountVectorizer. У CountVectorizer, как и у других наследников \\_VectorizerMixin, есть аргумент tokenizer и preprocessor. preprocessor применится в самом начале к каждой строке вашего датасета, tokenizer же должен принять строку и вернуть токены.\n",
    "Давайте напишем кастомный токенайзер, которые сделает все, что нам нужно: \n",
    "\n",
    "0. Приведет все буквы к нижнему регистру\n",
    "1. Разобьет текст на токены с помощью TweetTokenizer из пакета nltk\n",
    "2. Удалит все токены содержащие не латинские буквы, кроме смайликов (будем считать ими токены содержащие только пунктуацию и, как минимум, одну скобочку) и хэштегов, которые после начальной # содержат только латинские буквы.\n",
    "3. Удалит все токены, которые перечислены в nltk.corpus.stopwords.words('english')\n",
    "4. Проведет стемминг с помощью SnowballStemmer\n",
    "\n"
   ]
  },
  {
   "cell_type": "code",
   "source": [
    "def contains_only_latin_letters(s: str) -> bool:\n",
    "    # Проверка, содержит ли слово только латинские буквы\n",
    "    # -- YOUR CODE HERE --\n",
    "    return all('a' <= i <= 'z' or 'A' <= i <= 'Z'  for i in s)\n",
    "\n",
    "def is_emoji(s: str) -> bool:\n",
    "    # Проверка, является ли слово смайликом\n",
    "    # -- YOUR CODE HERE --\n",
    "    return any(i == '(' or i ==')' for i in s) and all(i in punctuation for i in s)\n",
    "    \n",
    "\n",
    "def is_hashtag(s: str) -> bool:\n",
    "    # Проверка, является ли слово хэштегом\n",
    "    # -- YOUR CODE HERE --\n",
    "    return s[0] == '#' and contains_only_latin_letters(s[1:])\n",
    "\n",
    "def custom_tokenizer(s: str) -> List[str]:    \n",
    "    # Кастомный токенайзер\n",
    "    # -- YOUR CODE HERE --\n",
    "    s = s.lower()\n",
    "    tokenizer = TweetTokenizer()\n",
    "    s = tokenizer.tokenize(s)\n",
    "    only_latin = []\n",
    "    for token in s:\n",
    "        if contains_only_latin_letters(token) or is_emoji(token) or is_hashtag(token):\n",
    "            only_latin.append(token)\n",
    "    stemmer = SnowballStemmer('english')\n",
    "    stems = [stemmer.stem(word) for word in only_latin]\n",
    "    return stems\n",
    "    \n",
    "  "
   ],
   "metadata": {
    "id": "qhwmi7DEMD25",
    "ExecuteTime": {
     "end_time": "2024-05-24T17:53:52.858821Z",
     "start_time": "2024-05-24T17:53:52.843675Z"
    }
   },
   "execution_count": 18,
   "outputs": []
  },
  {
   "cell_type": "code",
   "source": [
    "custom_tokenizer('She LOVES painting :-) #art')"
   ],
   "metadata": {
    "colab": {
     "base_uri": "https://localhost:8080/"
    },
    "id": "vYzPZzf8O6vj",
    "outputId": "b1107f8a-eef7-49f7-8ed3-910be791d645",
    "ExecuteTime": {
     "end_time": "2024-05-24T17:53:52.874849Z",
     "start_time": "2024-05-24T17:53:52.858821Z"
    }
   },
   "execution_count": 19,
   "outputs": [
    {
     "data": {
      "text/plain": "['she', 'love', 'paint', ':-)', '#art']"
     },
     "execution_count": 19,
     "metadata": {},
     "output_type": "execute_result"
    }
   ]
  },
  {
   "cell_type": "markdown",
   "source": [
    "Продемонстрируйте работу вашей функции на первых десяти текстах в обучающей выборке."
   ],
   "metadata": {
    "id": "2S_-ThAf5It4"
   }
  },
  {
   "cell_type": "code",
   "source": [
    "# -- YOUR CODE HERE --\n",
    "top_10 = np.array(train_new.text.head(10))\n",
    "for i in top_10:\n",
    "    print(custom_tokenizer(i))"
   ],
   "metadata": {
    "id": "A1fh3_itPz7D",
    "ExecuteTime": {
     "end_time": "2024-05-24T17:53:52.890811Z",
     "start_time": "2024-05-24T17:53:52.874849Z"
    }
   },
   "execution_count": 20,
   "outputs": [
    {
     "name": "stdout",
     "output_type": "stream",
     "text": [
      "['bridg', 'ash', 'australia', 'collaps', 'at', 'trent', 'bridg', 'among', 'worst', 'in', 'histori', 'england', 'bundl', 'out', 'australia', 'for']\n",
      "['hail', 'carol', 'stream', 'illinoi', 'great', 'michigan', 'techniqu', 'camp', 'thank', 'to', '#goblu', '#wrestleon']\n",
      "['polic', 'houston', 'cnn', 'tennesse', 'movi', 'theater', 'shoot', 'suspect', 'kill', 'by', 'polic']\n",
      "['riot', 'still', 'riot', 'in', 'a', 'coupl', 'of', 'hour', 'left', 'until', 'i', 'have', 'to', 'be', 'up', 'for', 'class']\n",
      "['wound', 'lake', 'highland', 'crack', 'in', 'the', 'path', 'where', 'i', 'wipe', 'out', 'this', 'morn', 'dure', 'beach', 'run', 'surfac', 'wound', 'on', 'left', 'elbow', 'and', 'right', 'knee']\n",
      "['airplan', 'somewher', 'out', 'there', 'expert', 'in', 'franc', 'begin', 'examin', 'airplan', 'debri', 'found', 'on', 'reunion', 'island', 'french', 'air', 'accid', 'expert', 'on', '#mlb']\n",
      "['bloodi', 'isol', 'citi', 'in', 'world', 'perth', 'i', 'came', 'to', 'kill', 'indian', 'for', 'fun', 'video', 'of', 'smirk', 'and', 'remorseless', 'pakistani', 'killer', 'show', 'him', 'boast']\n",
      "['burn', 'except', 'idk', 'them', 'realli', 'burn']\n",
      "['destroy', 'he', 'him', 'or', 'she', 'her', '(', 'ask', ')', 'destroy', 'the', 'hous']\n",
      "['wound', 'maracay', 'y', 'nirgua', 'venezuela', 'polic', 'offic', 'wound', 'suspect', 'dead', 'after', 'exchang', 'shot']\n"
     ]
    }
   ]
  },
  {
   "cell_type": "markdown",
   "metadata": {
    "id": "a5lNZ4tb3HvN"
   },
   "source": [
    "## Задание 8 (1 балл)\n",
    "\n",
    "1. Примените CountVectorizer с реализованным выше токенизатором к обучающим и тестовым выборкам.\n"
   ]
  },
  {
   "cell_type": "code",
   "source": [
    "vectorizer = CountVectorizer(tokenizer=custom_tokenizer)\n",
    "# -- YOUR CODE HERE --\n",
    "train_vectorised = vectorizer.fit_transform(train_new.text) \n",
    "test_vectorised = vectorizer.transform(test_new.text) "
   ],
   "metadata": {
    "id": "LDqixz7QQEbn",
    "ExecuteTime": {
     "end_time": "2024-05-24T17:53:55.369901Z",
     "start_time": "2024-05-24T17:53:52.890811Z"
    }
   },
   "execution_count": 21,
   "outputs": []
  },
  {
   "cell_type": "code",
   "outputs": [
    {
     "name": "stdout",
     "output_type": "stream",
     "text": [
      "With digit:       0\n",
      "With punctuation: 1334\n",
      "Hashtags:         1323\n",
      "Mentions:         0\n"
     ]
    }
   ],
   "source": [
    "investigate_vocabulary(vectorizer.vocabulary_)"
   ],
   "metadata": {
    "collapsed": false,
    "ExecuteTime": {
     "end_time": "2024-05-24T17:53:55.404460Z",
     "start_time": "2024-05-24T17:53:55.369901Z"
    }
   },
   "execution_count": 22
  },
  {
   "cell_type": "markdown",
   "source": [
    "2. Обучите LogisticRegression на полученных признаках.\n"
   ],
   "metadata": {
    "id": "YcetwuEi5ds9"
   }
  },
  {
   "cell_type": "code",
   "source": [
    "from sklearn.linear_model import LogisticRegression\n",
    "# -- YOUR CODE HERE --\n",
    "lr = LogisticRegression()\n",
    "lr.fit(train_vectorised, train_new.target)"
   ],
   "metadata": {
    "id": "BVj03QV2QbWl",
    "ExecuteTime": {
     "end_time": "2024-05-24T17:53:55.592068Z",
     "start_time": "2024-05-24T17:53:55.404460Z"
    }
   },
   "execution_count": 23,
   "outputs": [
    {
     "data": {
      "text/plain": "LogisticRegression()",
      "text/html": "<style>#sk-container-id-1 {\n  /* Definition of color scheme common for light and dark mode */\n  --sklearn-color-text: black;\n  --sklearn-color-line: gray;\n  /* Definition of color scheme for unfitted estimators */\n  --sklearn-color-unfitted-level-0: #fff5e6;\n  --sklearn-color-unfitted-level-1: #f6e4d2;\n  --sklearn-color-unfitted-level-2: #ffe0b3;\n  --sklearn-color-unfitted-level-3: chocolate;\n  /* Definition of color scheme for fitted estimators */\n  --sklearn-color-fitted-level-0: #f0f8ff;\n  --sklearn-color-fitted-level-1: #d4ebff;\n  --sklearn-color-fitted-level-2: #b3dbfd;\n  --sklearn-color-fitted-level-3: cornflowerblue;\n\n  /* Specific color for light theme */\n  --sklearn-color-text-on-default-background: var(--sg-text-color, var(--theme-code-foreground, var(--jp-content-font-color1, black)));\n  --sklearn-color-background: var(--sg-background-color, var(--theme-background, var(--jp-layout-color0, white)));\n  --sklearn-color-border-box: var(--sg-text-color, var(--theme-code-foreground, var(--jp-content-font-color1, black)));\n  --sklearn-color-icon: #696969;\n\n  @media (prefers-color-scheme: dark) {\n    /* Redefinition of color scheme for dark theme */\n    --sklearn-color-text-on-default-background: var(--sg-text-color, var(--theme-code-foreground, var(--jp-content-font-color1, white)));\n    --sklearn-color-background: var(--sg-background-color, var(--theme-background, var(--jp-layout-color0, #111)));\n    --sklearn-color-border-box: var(--sg-text-color, var(--theme-code-foreground, var(--jp-content-font-color1, white)));\n    --sklearn-color-icon: #878787;\n  }\n}\n\n#sk-container-id-1 {\n  color: var(--sklearn-color-text);\n}\n\n#sk-container-id-1 pre {\n  padding: 0;\n}\n\n#sk-container-id-1 input.sk-hidden--visually {\n  border: 0;\n  clip: rect(1px 1px 1px 1px);\n  clip: rect(1px, 1px, 1px, 1px);\n  height: 1px;\n  margin: -1px;\n  overflow: hidden;\n  padding: 0;\n  position: absolute;\n  width: 1px;\n}\n\n#sk-container-id-1 div.sk-dashed-wrapped {\n  border: 1px dashed var(--sklearn-color-line);\n  margin: 0 0.4em 0.5em 0.4em;\n  box-sizing: border-box;\n  padding-bottom: 0.4em;\n  background-color: var(--sklearn-color-background);\n}\n\n#sk-container-id-1 div.sk-container {\n  /* jupyter's `normalize.less` sets `[hidden] { display: none; }`\n     but bootstrap.min.css set `[hidden] { display: none !important; }`\n     so we also need the `!important` here to be able to override the\n     default hidden behavior on the sphinx rendered scikit-learn.org.\n     See: https://github.com/scikit-learn/scikit-learn/issues/21755 */\n  display: inline-block !important;\n  position: relative;\n}\n\n#sk-container-id-1 div.sk-text-repr-fallback {\n  display: none;\n}\n\ndiv.sk-parallel-item,\ndiv.sk-serial,\ndiv.sk-item {\n  /* draw centered vertical line to link estimators */\n  background-image: linear-gradient(var(--sklearn-color-text-on-default-background), var(--sklearn-color-text-on-default-background));\n  background-size: 2px 100%;\n  background-repeat: no-repeat;\n  background-position: center center;\n}\n\n/* Parallel-specific style estimator block */\n\n#sk-container-id-1 div.sk-parallel-item::after {\n  content: \"\";\n  width: 100%;\n  border-bottom: 2px solid var(--sklearn-color-text-on-default-background);\n  flex-grow: 1;\n}\n\n#sk-container-id-1 div.sk-parallel {\n  display: flex;\n  align-items: stretch;\n  justify-content: center;\n  background-color: var(--sklearn-color-background);\n  position: relative;\n}\n\n#sk-container-id-1 div.sk-parallel-item {\n  display: flex;\n  flex-direction: column;\n}\n\n#sk-container-id-1 div.sk-parallel-item:first-child::after {\n  align-self: flex-end;\n  width: 50%;\n}\n\n#sk-container-id-1 div.sk-parallel-item:last-child::after {\n  align-self: flex-start;\n  width: 50%;\n}\n\n#sk-container-id-1 div.sk-parallel-item:only-child::after {\n  width: 0;\n}\n\n/* Serial-specific style estimator block */\n\n#sk-container-id-1 div.sk-serial {\n  display: flex;\n  flex-direction: column;\n  align-items: center;\n  background-color: var(--sklearn-color-background);\n  padding-right: 1em;\n  padding-left: 1em;\n}\n\n\n/* Toggleable style: style used for estimator/Pipeline/ColumnTransformer box that is\nclickable and can be expanded/collapsed.\n- Pipeline and ColumnTransformer use this feature and define the default style\n- Estimators will overwrite some part of the style using the `sk-estimator` class\n*/\n\n/* Pipeline and ColumnTransformer style (default) */\n\n#sk-container-id-1 div.sk-toggleable {\n  /* Default theme specific background. It is overwritten whether we have a\n  specific estimator or a Pipeline/ColumnTransformer */\n  background-color: var(--sklearn-color-background);\n}\n\n/* Toggleable label */\n#sk-container-id-1 label.sk-toggleable__label {\n  cursor: pointer;\n  display: block;\n  width: 100%;\n  margin-bottom: 0;\n  padding: 0.5em;\n  box-sizing: border-box;\n  text-align: center;\n}\n\n#sk-container-id-1 label.sk-toggleable__label-arrow:before {\n  /* Arrow on the left of the label */\n  content: \"▸\";\n  float: left;\n  margin-right: 0.25em;\n  color: var(--sklearn-color-icon);\n}\n\n#sk-container-id-1 label.sk-toggleable__label-arrow:hover:before {\n  color: var(--sklearn-color-text);\n}\n\n/* Toggleable content - dropdown */\n\n#sk-container-id-1 div.sk-toggleable__content {\n  max-height: 0;\n  max-width: 0;\n  overflow: hidden;\n  text-align: left;\n  /* unfitted */\n  background-color: var(--sklearn-color-unfitted-level-0);\n}\n\n#sk-container-id-1 div.sk-toggleable__content.fitted {\n  /* fitted */\n  background-color: var(--sklearn-color-fitted-level-0);\n}\n\n#sk-container-id-1 div.sk-toggleable__content pre {\n  margin: 0.2em;\n  border-radius: 0.25em;\n  color: var(--sklearn-color-text);\n  /* unfitted */\n  background-color: var(--sklearn-color-unfitted-level-0);\n}\n\n#sk-container-id-1 div.sk-toggleable__content.fitted pre {\n  /* unfitted */\n  background-color: var(--sklearn-color-fitted-level-0);\n}\n\n#sk-container-id-1 input.sk-toggleable__control:checked~div.sk-toggleable__content {\n  /* Expand drop-down */\n  max-height: 200px;\n  max-width: 100%;\n  overflow: auto;\n}\n\n#sk-container-id-1 input.sk-toggleable__control:checked~label.sk-toggleable__label-arrow:before {\n  content: \"▾\";\n}\n\n/* Pipeline/ColumnTransformer-specific style */\n\n#sk-container-id-1 div.sk-label input.sk-toggleable__control:checked~label.sk-toggleable__label {\n  color: var(--sklearn-color-text);\n  background-color: var(--sklearn-color-unfitted-level-2);\n}\n\n#sk-container-id-1 div.sk-label.fitted input.sk-toggleable__control:checked~label.sk-toggleable__label {\n  background-color: var(--sklearn-color-fitted-level-2);\n}\n\n/* Estimator-specific style */\n\n/* Colorize estimator box */\n#sk-container-id-1 div.sk-estimator input.sk-toggleable__control:checked~label.sk-toggleable__label {\n  /* unfitted */\n  background-color: var(--sklearn-color-unfitted-level-2);\n}\n\n#sk-container-id-1 div.sk-estimator.fitted input.sk-toggleable__control:checked~label.sk-toggleable__label {\n  /* fitted */\n  background-color: var(--sklearn-color-fitted-level-2);\n}\n\n#sk-container-id-1 div.sk-label label.sk-toggleable__label,\n#sk-container-id-1 div.sk-label label {\n  /* The background is the default theme color */\n  color: var(--sklearn-color-text-on-default-background);\n}\n\n/* On hover, darken the color of the background */\n#sk-container-id-1 div.sk-label:hover label.sk-toggleable__label {\n  color: var(--sklearn-color-text);\n  background-color: var(--sklearn-color-unfitted-level-2);\n}\n\n/* Label box, darken color on hover, fitted */\n#sk-container-id-1 div.sk-label.fitted:hover label.sk-toggleable__label.fitted {\n  color: var(--sklearn-color-text);\n  background-color: var(--sklearn-color-fitted-level-2);\n}\n\n/* Estimator label */\n\n#sk-container-id-1 div.sk-label label {\n  font-family: monospace;\n  font-weight: bold;\n  display: inline-block;\n  line-height: 1.2em;\n}\n\n#sk-container-id-1 div.sk-label-container {\n  text-align: center;\n}\n\n/* Estimator-specific */\n#sk-container-id-1 div.sk-estimator {\n  font-family: monospace;\n  border: 1px dotted var(--sklearn-color-border-box);\n  border-radius: 0.25em;\n  box-sizing: border-box;\n  margin-bottom: 0.5em;\n  /* unfitted */\n  background-color: var(--sklearn-color-unfitted-level-0);\n}\n\n#sk-container-id-1 div.sk-estimator.fitted {\n  /* fitted */\n  background-color: var(--sklearn-color-fitted-level-0);\n}\n\n/* on hover */\n#sk-container-id-1 div.sk-estimator:hover {\n  /* unfitted */\n  background-color: var(--sklearn-color-unfitted-level-2);\n}\n\n#sk-container-id-1 div.sk-estimator.fitted:hover {\n  /* fitted */\n  background-color: var(--sklearn-color-fitted-level-2);\n}\n\n/* Specification for estimator info (e.g. \"i\" and \"?\") */\n\n/* Common style for \"i\" and \"?\" */\n\n.sk-estimator-doc-link,\na:link.sk-estimator-doc-link,\na:visited.sk-estimator-doc-link {\n  float: right;\n  font-size: smaller;\n  line-height: 1em;\n  font-family: monospace;\n  background-color: var(--sklearn-color-background);\n  border-radius: 1em;\n  height: 1em;\n  width: 1em;\n  text-decoration: none !important;\n  margin-left: 1ex;\n  /* unfitted */\n  border: var(--sklearn-color-unfitted-level-1) 1pt solid;\n  color: var(--sklearn-color-unfitted-level-1);\n}\n\n.sk-estimator-doc-link.fitted,\na:link.sk-estimator-doc-link.fitted,\na:visited.sk-estimator-doc-link.fitted {\n  /* fitted */\n  border: var(--sklearn-color-fitted-level-1) 1pt solid;\n  color: var(--sklearn-color-fitted-level-1);\n}\n\n/* On hover */\ndiv.sk-estimator:hover .sk-estimator-doc-link:hover,\n.sk-estimator-doc-link:hover,\ndiv.sk-label-container:hover .sk-estimator-doc-link:hover,\n.sk-estimator-doc-link:hover {\n  /* unfitted */\n  background-color: var(--sklearn-color-unfitted-level-3);\n  color: var(--sklearn-color-background);\n  text-decoration: none;\n}\n\ndiv.sk-estimator.fitted:hover .sk-estimator-doc-link.fitted:hover,\n.sk-estimator-doc-link.fitted:hover,\ndiv.sk-label-container:hover .sk-estimator-doc-link.fitted:hover,\n.sk-estimator-doc-link.fitted:hover {\n  /* fitted */\n  background-color: var(--sklearn-color-fitted-level-3);\n  color: var(--sklearn-color-background);\n  text-decoration: none;\n}\n\n/* Span, style for the box shown on hovering the info icon */\n.sk-estimator-doc-link span {\n  display: none;\n  z-index: 9999;\n  position: relative;\n  font-weight: normal;\n  right: .2ex;\n  padding: .5ex;\n  margin: .5ex;\n  width: min-content;\n  min-width: 20ex;\n  max-width: 50ex;\n  color: var(--sklearn-color-text);\n  box-shadow: 2pt 2pt 4pt #999;\n  /* unfitted */\n  background: var(--sklearn-color-unfitted-level-0);\n  border: .5pt solid var(--sklearn-color-unfitted-level-3);\n}\n\n.sk-estimator-doc-link.fitted span {\n  /* fitted */\n  background: var(--sklearn-color-fitted-level-0);\n  border: var(--sklearn-color-fitted-level-3);\n}\n\n.sk-estimator-doc-link:hover span {\n  display: block;\n}\n\n/* \"?\"-specific style due to the `<a>` HTML tag */\n\n#sk-container-id-1 a.estimator_doc_link {\n  float: right;\n  font-size: 1rem;\n  line-height: 1em;\n  font-family: monospace;\n  background-color: var(--sklearn-color-background);\n  border-radius: 1rem;\n  height: 1rem;\n  width: 1rem;\n  text-decoration: none;\n  /* unfitted */\n  color: var(--sklearn-color-unfitted-level-1);\n  border: var(--sklearn-color-unfitted-level-1) 1pt solid;\n}\n\n#sk-container-id-1 a.estimator_doc_link.fitted {\n  /* fitted */\n  border: var(--sklearn-color-fitted-level-1) 1pt solid;\n  color: var(--sklearn-color-fitted-level-1);\n}\n\n/* On hover */\n#sk-container-id-1 a.estimator_doc_link:hover {\n  /* unfitted */\n  background-color: var(--sklearn-color-unfitted-level-3);\n  color: var(--sklearn-color-background);\n  text-decoration: none;\n}\n\n#sk-container-id-1 a.estimator_doc_link.fitted:hover {\n  /* fitted */\n  background-color: var(--sklearn-color-fitted-level-3);\n}\n</style><div id=\"sk-container-id-1\" class=\"sk-top-container\"><div class=\"sk-text-repr-fallback\"><pre>LogisticRegression()</pre><b>In a Jupyter environment, please rerun this cell to show the HTML representation or trust the notebook. <br />On GitHub, the HTML representation is unable to render, please try loading this page with nbviewer.org.</b></div><div class=\"sk-container\" hidden><div class=\"sk-item\"><div class=\"sk-estimator fitted sk-toggleable\"><input class=\"sk-toggleable__control sk-hidden--visually\" id=\"sk-estimator-id-1\" type=\"checkbox\" checked><label for=\"sk-estimator-id-1\" class=\"sk-toggleable__label fitted sk-toggleable__label-arrow fitted\">&nbsp;&nbsp;LogisticRegression<a class=\"sk-estimator-doc-link fitted\" rel=\"noreferrer\" target=\"_blank\" href=\"https://scikit-learn.org/1.4/modules/generated/sklearn.linear_model.LogisticRegression.html\">?<span>Documentation for LogisticRegression</span></a><span class=\"sk-estimator-doc-link fitted\">i<span>Fitted</span></span></label><div class=\"sk-toggleable__content fitted\"><pre>LogisticRegression()</pre></div> </div></div></div></div>"
     },
     "execution_count": 23,
     "metadata": {},
     "output_type": "execute_result"
    }
   ]
  },
  {
   "cell_type": "markdown",
   "source": [
    "3. Посчитайте метрику f1-score на тестовых данных."
   ],
   "metadata": {
    "id": "6Ch6uz2P5e-T"
   }
  },
  {
   "cell_type": "code",
   "source": [
    "from sklearn.metrics import f1_score\n",
    "\n",
    "# -- YOUR CODE HERE --\n",
    "pred = lr.predict(test_vectorised)\n",
    "print(f1_score(test_new.target, pred))"
   ],
   "metadata": {
    "colab": {
     "base_uri": "https://localhost:8080/"
    },
    "id": "osyC0pdT3cSD",
    "outputId": "cd957d5f-5118-4b7f-d7ba-01bb5a524086",
    "ExecuteTime": {
     "end_time": "2024-05-24T17:53:55.603128Z",
     "start_time": "2024-05-24T17:53:55.593275Z"
    }
   },
   "execution_count": 24,
   "outputs": [
    {
     "name": "stdout",
     "output_type": "stream",
     "text": [
      "0.7592493297587132\n"
     ]
    }
   ]
  },
  {
   "cell_type": "markdown",
   "metadata": {
    "id": "aFIEYOMZ3HvN"
   },
   "source": [
    "## Задание 9 (1 балл)\n",
    "\n",
    "1. Повторите 8 задание, но с tf-idf векторизатором. Как изменилось качество?\n"
   ]
  },
  {
   "cell_type": "code",
   "source": [
    "from sklearn.feature_extraction.text import TfidfVectorizer\n",
    "# -- YOUR CODE HERE --\n",
    "vectorizer = TfidfVectorizer(tokenizer=custom_tokenizer)\n",
    "train_tfidf = vectorizer.fit_transform(train_new.text)\n",
    "test_tfidf = vectorizer.transform(test_new.text)\n",
    "lr.fit(train_tfidf, train_new.target)\n",
    "pred = lr.predict(test_tfidf)\n",
    "print(f'F1 score {f1_score(test_new.target, pred)}')\n",
    "print('Размеры матриц')\n",
    "print(train_tfidf.shape)\n",
    "print(test_tfidf.shape)"
   ],
   "metadata": {
    "colab": {
     "base_uri": "https://localhost:8080/"
    },
    "id": "cDqs61hl3ve3",
    "outputId": "fdd72125-dfde-4183-d614-3b0bc9002ada",
    "ExecuteTime": {
     "end_time": "2024-05-24T17:53:57.497331Z",
     "start_time": "2024-05-24T17:53:55.603128Z"
    }
   },
   "execution_count": 25,
   "outputs": [
    {
     "name": "stderr",
     "output_type": "stream",
     "text": [
      "C:\\Users\\Амир\\PROGRAMMING\\input v tink\\.venv\\lib\\site-packages\\sklearn\\feature_extraction\\text.py:525: UserWarning: The parameter 'token_pattern' will not be used since 'tokenizer' is not None'\n",
      "  warnings.warn(\n"
     ]
    },
    {
     "name": "stdout",
     "output_type": "stream",
     "text": [
      "F1 score 0.74434014356709\n",
      "Размеры матриц\n",
      "(5329, 10597)\n",
      "(2284, 10597)\n"
     ]
    }
   ]
  },
  {
   "cell_type": "markdown",
   "source": [
    "1. **Ответ:** Качество немного упало"
   ],
   "metadata": {
    "id": "SXaNclTZSFjO"
   }
  },
  {
   "cell_type": "markdown",
   "source": [
    "2. Мы можем еще сильнее уменьшить размер нашей матрицы, если отбросим значения df близкие к единице. Скорее всего такие слова не несут много информации о категории, так как встречаются достаточно часто. Ограничьте максимальный df в параметрах TfIdfVectorizer, поставьте верхнюю границу равную 0.9. Как изменился размер матрицы, как изменилось качество?\n"
   ],
   "metadata": {
    "id": "CPtk0lCA5POY"
   }
  },
  {
   "cell_type": "code",
   "source": [
    "# 2\n",
    "# -- YOUR CODE HERE --\n",
    "vectorizer = TfidfVectorizer(tokenizer=custom_tokenizer, max_df=0.9)\n",
    "train_tfidf = vectorizer.fit_transform(train_new.text)\n",
    "test_tfidf = vectorizer.transform(test_new.text)\n",
    "lr.fit(train_tfidf, train_new.target)\n",
    "pred = lr.predict(test_tfidf)\n",
    "print(f'F1 score {f1_score(test_new.target, pred)}')"
   ],
   "metadata": {
    "colab": {
     "base_uri": "https://localhost:8080/"
    },
    "id": "EU-MRXyRSHLm",
    "outputId": "6b5353a8-5f3b-4220-fcd4-64eecfe20054",
    "ExecuteTime": {
     "end_time": "2024-05-24T17:53:59.546806Z",
     "start_time": "2024-05-24T17:53:57.497331Z"
    }
   },
   "execution_count": 26,
   "outputs": [
    {
     "name": "stderr",
     "output_type": "stream",
     "text": [
      "C:\\Users\\Амир\\PROGRAMMING\\input v tink\\.venv\\lib\\site-packages\\sklearn\\feature_extraction\\text.py:525: UserWarning: The parameter 'token_pattern' will not be used since 'tokenizer' is not None'\n",
      "  warnings.warn(\n"
     ]
    },
    {
     "name": "stdout",
     "output_type": "stream",
     "text": [
      "F1 score 0.74434014356709\n"
     ]
    }
   ]
  },
  {
   "cell_type": "code",
   "source": [
    "# -- YOUR CODE HERE --\n",
    "print('Размеры матриц')\n",
    "print(train_tfidf.shape)\n",
    "print(test_tfidf.shape)"
   ],
   "metadata": {
    "id": "z1TkO9HeSTJ9",
    "ExecuteTime": {
     "end_time": "2024-05-24T17:53:59.555106Z",
     "start_time": "2024-05-24T17:53:59.548772Z"
    }
   },
   "execution_count": 27,
   "outputs": [
    {
     "name": "stdout",
     "output_type": "stream",
     "text": [
      "Размеры матриц\n",
      "(5329, 10597)\n",
      "(2284, 10597)\n"
     ]
    }
   ]
  },
  {
   "cell_type": "markdown",
   "source": [
    "2. **Ответ:** Качество, как и размеры матриц, не изменилось"
   ],
   "metadata": {
    "id": "4Two_O3rSVmh"
   }
  },
  {
   "cell_type": "markdown",
   "source": [
    "3. Также мы можем уменьшить размер матрицы, удаляя слова со слишком маленьким df. Удалось ли добиться улучшения качества? "
   ],
   "metadata": {
    "id": "VhyjbI5X5QnG"
   }
  },
  {
   "cell_type": "code",
   "source": [
    "# 3\n",
    "# -- YOUR CODE HERE --\n",
    "vectorizer = TfidfVectorizer(tokenizer=custom_tokenizer,min_df=0.0009,  max_df=0.9)\n",
    "train_tfidf = vectorizer.fit_transform(train_new.text)\n",
    "test_tfidf = vectorizer.transform(test_new.text)\n",
    "lr.fit(train_tfidf, train_new.target)\n",
    "pred = lr.predict(test_tfidf)\n",
    "print(f'F1 score {f1_score(test_new.target, pred)}')\n",
    "print('Размеры матриц')\n",
    "print(train_tfidf.shape)\n",
    "print(test_tfidf.shape)"
   ],
   "metadata": {
    "colab": {
     "base_uri": "https://localhost:8080/"
    },
    "id": "9mNpIxv6SfKc",
    "outputId": "607ec22e-1fdb-4c29-bbc4-6447ed266349",
    "ExecuteTime": {
     "end_time": "2024-05-24T17:54:01.792Z",
     "start_time": "2024-05-24T17:53:59.558742Z"
    }
   },
   "execution_count": 28,
   "outputs": [
    {
     "name": "stderr",
     "output_type": "stream",
     "text": [
      "C:\\Users\\Амир\\PROGRAMMING\\input v tink\\.venv\\lib\\site-packages\\sklearn\\feature_extraction\\text.py:525: UserWarning: The parameter 'token_pattern' will not be used since 'tokenizer' is not None'\n",
      "  warnings.warn(\n"
     ]
    },
    {
     "name": "stdout",
     "output_type": "stream",
     "text": [
      "F1 score 0.7483516483516484\n",
      "Размеры матриц\n",
      "(5329, 2140)\n",
      "(2284, 2140)\n"
     ]
    }
   ]
  },
  {
   "cell_type": "markdown",
   "source": [
    "3. **Ответ:** Удалось немного улучшить качество и ощутимо снизить размеры матриц."
   ],
   "metadata": {
    "id": "imeD8skxSqdg"
   }
  },
  {
   "cell_type": "markdown",
   "metadata": {
    "id": "1l1sx4nB3HvN"
   },
   "source": [
    "## Задание 10 (1 балл)\n",
    "\n",
    "Еще один популяпный трюк, который позволит уменьшить количество признаков называется hashing trick. Его суть в том, то мы случайно группируем признаки ииии  ..... складываем их! А потом удаляем исходные признаки. В итоге все наши признаки это просто суммы исходных. Звучит странно, но это отлично работает. Давайте проверим этот трюк в нашем сеттинге.\n",
    "Также при таком подходе вам не нужно хранить словарь token->index, что тоже иногда полезно.\n",
    "\n",
    "1. Повторите задание 8 с HashingVectorizer, укажите количество фичей равное 5000.\n"
   ]
  },
  {
   "cell_type": "code",
   "source": [
    "from sklearn.feature_extraction.text import HashingVectorizer\n",
    "\n",
    "# -- YOUR CODE HERE --\n",
    "vectorizer = HashingVectorizer(tokenizer=custom_tokenizer, n_features=5000)\n",
    "train_hashed = vectorizer.fit_transform(train_new.text)\n",
    "test_hashed = vectorizer.transform(test_new.text)\n",
    "lr.fit(train_hashed, train_new.target)\n",
    "pred = lr.predict(test_hashed)\n",
    "print(f'F1 score {f1_score(test_new.target, pred)}')\n",
    "print('Размеры матриц')\n",
    "print(train_hashed.shape)\n",
    "print(test_hashed.shape)"
   ],
   "metadata": {
    "colab": {
     "base_uri": "https://localhost:8080/"
    },
    "id": "8qSoW894RXxz",
    "outputId": "720818f4-f774-4273-bb10-918ecc72ef44",
    "ExecuteTime": {
     "end_time": "2024-05-24T17:54:03.825278Z",
     "start_time": "2024-05-24T17:54:01.793957Z"
    }
   },
   "execution_count": 29,
   "outputs": [
    {
     "name": "stderr",
     "output_type": "stream",
     "text": [
      "C:\\Users\\Амир\\PROGRAMMING\\input v tink\\.venv\\lib\\site-packages\\sklearn\\feature_extraction\\text.py:525: UserWarning: The parameter 'token_pattern' will not be used since 'tokenizer' is not None'\n",
      "  warnings.warn(\n"
     ]
    },
    {
     "name": "stdout",
     "output_type": "stream",
     "text": [
      "F1 score 0.7334826427771557\n",
      "Размеры матриц\n",
      "(5329, 5000)\n",
      "(2284, 5000)\n"
     ]
    }
   ]
  },
  {
   "cell_type": "markdown",
   "source": [
    "2. Какой из подходов показал самый высокий результат?"
   ],
   "metadata": {
    "id": "1C3I4ceg6AG-"
   }
  },
  {
   "cell_type": "markdown",
   "source": [
    "2. **Ответ:** Подход с использованием CountVectorizer"
   ],
   "metadata": {
    "id": "_bIfyVlOS9Lu"
   }
  },
  {
   "cell_type": "markdown",
   "metadata": {
    "id": "zylJ6l0R3HvN"
   },
   "source": [
    "## Задание 11 (1 балл)\n",
    "\n",
    "В этом задании нужно добиться f1 меры хотя в 0.75 на тестовых данных."
   ]
  },
  {
   "cell_type": "code",
   "source": [
    "# -- YOUR CODE HERE --\n",
    "# Воспользуемся CountVectorizer\n",
    "lr.fit(train_vectorised, train_new.target)\n",
    "pred = lr.predict(test_vectorised)\n",
    "print(f'F1 score {f1_score(test_new.target, pred)}')"
   ],
   "metadata": {
    "id": "GSTVApFeS-OY",
    "ExecuteTime": {
     "end_time": "2024-05-24T17:54:04.047449Z",
     "start_time": "2024-05-24T17:54:03.826561Z"
    }
   },
   "execution_count": 30,
   "outputs": [
    {
     "name": "stdout",
     "output_type": "stream",
     "text": [
      "F1 score 0.7592493297587132\n"
     ]
    }
   ]
  }
 ],
 "metadata": {
  "kernelspec": {
   "display_name": "Python 3 (ipykernel)",
   "language": "python",
   "name": "python3"
  },
  "language_info": {
   "codemirror_mode": {
    "name": "ipython",
    "version": 3
   },
   "file_extension": ".py",
   "mimetype": "text/x-python",
   "name": "python",
   "nbconvert_exporter": "python",
   "pygments_lexer": "ipython3",
   "version": "3.8.5"
  },
  "colab": {
   "provenance": [],
   "collapsed_sections": [
    "YlLemInT3HvL",
    "A8CPBUal3HvL"
   ]
  }
 },
 "nbformat": 4,
 "nbformat_minor": 0
}
