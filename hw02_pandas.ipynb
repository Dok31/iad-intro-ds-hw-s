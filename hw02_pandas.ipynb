{
 "cells": [
  {
   "cell_type": "markdown",
   "metadata": {
    "_uuid": "21c25e4f8bb31570029fd6b069131a5d00f84cf1"
   },
   "source": [
    "# Домашнее задание 2 (5 баллов).\n",
    "\n",
    "Все задания ниже имеют равный вес (5/16)."
   ]
  },
  {
   "cell_type": "code",
   "execution_count": 1,
   "metadata": {
    "_uuid": "568eb2d31004b87d22e119112ae01a1e75105f1d",
    "ExecuteTime": {
     "end_time": "2023-12-12T17:17:43.970700900Z",
     "start_time": "2023-12-12T17:17:43.950197900Z"
    }
   },
   "outputs": [],
   "source": [
    "import pandas as pd\n",
    "import time"
   ]
  },
  {
   "cell_type": "markdown",
   "metadata": {},
   "source": [
    "#### Описание данных\n",
    "\n",
    "В папке Data находится информация о студентах. Всего 10 групп студентов. Файлы делятся на две категории:\n",
    "    * Students_info_i - информация о студентах из группы i\n",
    "    * Students_marks_i - оценки студентов из группы i за экзамены"
   ]
  },
  {
   "cell_type": "markdown",
   "metadata": {},
   "source": [
    "### Одно из важных достоинств pandas $-$ это удобные методы реляционного взаимодействия с данными, аналогичные, например, возможностям SQL для слияния и конкатенации таблиц: merge, join, concat. Наличие готовых методов позволяет не реализовывать самостоятельно поэлементную обработку данных и оперировать сразу целыми таблицами данных.\n",
    "\n",
    "Подробно об этих методах посмотрите тут: https://www.kaggle.com/residentmario/renaming-and-combining#Combining"
   ]
  },
  {
   "cell_type": "markdown",
   "metadata": {},
   "source": [
    "#### Задание 1. Соберите всю информацию о студентах в одну таблицу df. В получившейся таблице должна быть информация и оценки всех студентов из всех групп. Напечатайте несколько строк таблицы для демонстрации результата.¶"
   ]
  },
  {
   "cell_type": "code",
   "execution_count": 2,
   "metadata": {
    "ExecuteTime": {
     "end_time": "2023-12-12T17:17:44.089379Z",
     "start_time": "2023-12-12T17:17:43.964255100Z"
    }
   },
   "outputs": [
    {
     "data": {
      "text/plain": "       index  gender race/ethnicity parental level of education         lunch  \\\nindex                                                                           \n995      995  female        group E             master's degree      standard   \n996      996    male        group C                 high school  free/reduced   \n997      997  female        group C                 high school  free/reduced   \n998      998  female        group D                some college      standard   \n999      999  female        group D                some college  free/reduced   \n\n      test preparation course    group  math score  reading score  \\\nindex                                                               \n995                 completed  group10          88             99   \n996                      none  group10          62             55   \n997                 completed  group10          59             71   \n998                 completed  group10          68             78   \n999                      none  group10          77             86   \n\n       writing score  \nindex                 \n995               95  \n996               55  \n997               65  \n998               77  \n999               86  ",
      "text/html": "<div>\n<style scoped>\n    .dataframe tbody tr th:only-of-type {\n        vertical-align: middle;\n    }\n\n    .dataframe tbody tr th {\n        vertical-align: top;\n    }\n\n    .dataframe thead th {\n        text-align: right;\n    }\n</style>\n<table border=\"1\" class=\"dataframe\">\n  <thead>\n    <tr style=\"text-align: right;\">\n      <th></th>\n      <th>index</th>\n      <th>gender</th>\n      <th>race/ethnicity</th>\n      <th>parental level of education</th>\n      <th>lunch</th>\n      <th>test preparation course</th>\n      <th>group</th>\n      <th>math score</th>\n      <th>reading score</th>\n      <th>writing score</th>\n    </tr>\n    <tr>\n      <th>index</th>\n      <th></th>\n      <th></th>\n      <th></th>\n      <th></th>\n      <th></th>\n      <th></th>\n      <th></th>\n      <th></th>\n      <th></th>\n      <th></th>\n    </tr>\n  </thead>\n  <tbody>\n    <tr>\n      <th>995</th>\n      <td>995</td>\n      <td>female</td>\n      <td>group E</td>\n      <td>master's degree</td>\n      <td>standard</td>\n      <td>completed</td>\n      <td>group10</td>\n      <td>88</td>\n      <td>99</td>\n      <td>95</td>\n    </tr>\n    <tr>\n      <th>996</th>\n      <td>996</td>\n      <td>male</td>\n      <td>group C</td>\n      <td>high school</td>\n      <td>free/reduced</td>\n      <td>none</td>\n      <td>group10</td>\n      <td>62</td>\n      <td>55</td>\n      <td>55</td>\n    </tr>\n    <tr>\n      <th>997</th>\n      <td>997</td>\n      <td>female</td>\n      <td>group C</td>\n      <td>high school</td>\n      <td>free/reduced</td>\n      <td>completed</td>\n      <td>group10</td>\n      <td>59</td>\n      <td>71</td>\n      <td>65</td>\n    </tr>\n    <tr>\n      <th>998</th>\n      <td>998</td>\n      <td>female</td>\n      <td>group D</td>\n      <td>some college</td>\n      <td>standard</td>\n      <td>completed</td>\n      <td>group10</td>\n      <td>68</td>\n      <td>78</td>\n      <td>77</td>\n    </tr>\n    <tr>\n      <th>999</th>\n      <td>999</td>\n      <td>female</td>\n      <td>group D</td>\n      <td>some college</td>\n      <td>free/reduced</td>\n      <td>none</td>\n      <td>group10</td>\n      <td>77</td>\n      <td>86</td>\n      <td>86</td>\n    </tr>\n  </tbody>\n</table>\n</div>"
     },
     "execution_count": 2,
     "metadata": {},
     "output_type": "execute_result"
    }
   ],
   "source": [
    "#your code here\n",
    "df = pd.DataFrame()\n",
    "for i in range(10):\n",
    "    inf = pd.read_csv(f'Data/Students_info_{i}.csv')\n",
    "    mark = pd.read_csv(f'Data/Students_marks_{i}.csv')\n",
    "    students = pd.merge(inf, mark, on='index')\n",
    "    df = pd.concat([df, students])\n",
    "df.set_index(df['index'], inplace=True)\n",
    "df.tail()"
   ]
  },
  {
   "cell_type": "markdown",
   "metadata": {
    "_uuid": "8524af4cbd2f7b7810e8a3095a74c9fe1df7eafa"
   },
   "source": [
    "#### Задание 2. Удалите столбец index у полученной таблицы. Напечатайте первые 10 строк таблицы."
   ]
  },
  {
   "cell_type": "code",
   "execution_count": 3,
   "metadata": {
    "_uuid": "fe62eee87b9b94ab923f57b55eaf0554612aa9e9",
    "ExecuteTime": {
     "end_time": "2023-12-12T17:17:44.107150500Z",
     "start_time": "2023-12-12T17:17:44.088373400Z"
    }
   },
   "outputs": [
    {
     "data": {
      "text/plain": "       gender race/ethnicity parental level of education         lunch  \\\nindex                                                                    \n0      female        group B           bachelor's degree      standard   \n1      female        group C                some college      standard   \n2      female        group B             master's degree      standard   \n3        male        group A          associate's degree  free/reduced   \n4        male        group C                some college      standard   \n\n      test preparation course   group  math score  reading score  \\\nindex                                                              \n0                        none  group1          72             72   \n1                   completed  group1          69             90   \n2                        none  group1          90             95   \n3                        none  group1          47             57   \n4                        none  group1          76             78   \n\n       writing score  \nindex                 \n0                 74  \n1                 88  \n2                 93  \n3                 44  \n4                 75  ",
      "text/html": "<div>\n<style scoped>\n    .dataframe tbody tr th:only-of-type {\n        vertical-align: middle;\n    }\n\n    .dataframe tbody tr th {\n        vertical-align: top;\n    }\n\n    .dataframe thead th {\n        text-align: right;\n    }\n</style>\n<table border=\"1\" class=\"dataframe\">\n  <thead>\n    <tr style=\"text-align: right;\">\n      <th></th>\n      <th>gender</th>\n      <th>race/ethnicity</th>\n      <th>parental level of education</th>\n      <th>lunch</th>\n      <th>test preparation course</th>\n      <th>group</th>\n      <th>math score</th>\n      <th>reading score</th>\n      <th>writing score</th>\n    </tr>\n    <tr>\n      <th>index</th>\n      <th></th>\n      <th></th>\n      <th></th>\n      <th></th>\n      <th></th>\n      <th></th>\n      <th></th>\n      <th></th>\n      <th></th>\n    </tr>\n  </thead>\n  <tbody>\n    <tr>\n      <th>0</th>\n      <td>female</td>\n      <td>group B</td>\n      <td>bachelor's degree</td>\n      <td>standard</td>\n      <td>none</td>\n      <td>group1</td>\n      <td>72</td>\n      <td>72</td>\n      <td>74</td>\n    </tr>\n    <tr>\n      <th>1</th>\n      <td>female</td>\n      <td>group C</td>\n      <td>some college</td>\n      <td>standard</td>\n      <td>completed</td>\n      <td>group1</td>\n      <td>69</td>\n      <td>90</td>\n      <td>88</td>\n    </tr>\n    <tr>\n      <th>2</th>\n      <td>female</td>\n      <td>group B</td>\n      <td>master's degree</td>\n      <td>standard</td>\n      <td>none</td>\n      <td>group1</td>\n      <td>90</td>\n      <td>95</td>\n      <td>93</td>\n    </tr>\n    <tr>\n      <th>3</th>\n      <td>male</td>\n      <td>group A</td>\n      <td>associate's degree</td>\n      <td>free/reduced</td>\n      <td>none</td>\n      <td>group1</td>\n      <td>47</td>\n      <td>57</td>\n      <td>44</td>\n    </tr>\n    <tr>\n      <th>4</th>\n      <td>male</td>\n      <td>group C</td>\n      <td>some college</td>\n      <td>standard</td>\n      <td>none</td>\n      <td>group1</td>\n      <td>76</td>\n      <td>78</td>\n      <td>75</td>\n    </tr>\n  </tbody>\n</table>\n</div>"
     },
     "execution_count": 3,
     "metadata": {},
     "output_type": "execute_result"
    }
   ],
   "source": [
    "#your code here\n",
    "df.drop('index', axis=1, inplace=True)\n",
    "df.head()"
   ]
  },
  {
   "cell_type": "markdown",
   "metadata": {
    "_uuid": "5fcd622942b7ecfc318934c6a245d3bb3bf01e84"
   },
   "source": [
    "#### Задание 3. Выведите на экран размеры полученной таблицы"
   ]
  },
  {
   "cell_type": "code",
   "execution_count": 4,
   "metadata": {
    "_uuid": "16281cd7b4e941ebed8ca2e1b42f62f55d838684",
    "ExecuteTime": {
     "end_time": "2023-12-12T17:17:44.185749500Z",
     "start_time": "2023-12-12T17:17:44.102142700Z"
    }
   },
   "outputs": [
    {
     "data": {
      "text/plain": "(1000, 9)"
     },
     "execution_count": 4,
     "metadata": {},
     "output_type": "execute_result"
    }
   ],
   "source": [
    "# your code here\n",
    "df.shape"
   ]
  },
  {
   "cell_type": "markdown",
   "metadata": {
    "_uuid": "fe8e3d58d29ca25dbbcf001392377643e6ff9a36"
   },
   "source": [
    "#### Задание 4. Выведите на экран статистические характеристики числовых столбцов таблицы (минимум, максимум, среднее значение, стандартное отклонение)"
   ]
  },
  {
   "cell_type": "code",
   "execution_count": 5,
   "metadata": {
    "_uuid": "e3d4bb80d2c4251fe517c24fcf08c5ff2d67b8aa",
    "ExecuteTime": {
     "end_time": "2023-12-12T17:17:44.289459800Z",
     "start_time": "2023-12-12T17:17:44.118394100Z"
    }
   },
   "outputs": [
    {
     "data": {
      "text/plain": "       math score  reading score  writing score\ncount  1000.00000    1000.000000    1000.000000\nmean     66.08900      69.169000      68.054000\nstd      15.16308      14.600192      15.195657\nmin       0.00000      17.000000      10.000000\n25%      57.00000      59.000000      57.750000\n50%      66.00000      70.000000      69.000000\n75%      77.00000      79.000000      79.000000\nmax     100.00000     100.000000     100.000000",
      "text/html": "<div>\n<style scoped>\n    .dataframe tbody tr th:only-of-type {\n        vertical-align: middle;\n    }\n\n    .dataframe tbody tr th {\n        vertical-align: top;\n    }\n\n    .dataframe thead th {\n        text-align: right;\n    }\n</style>\n<table border=\"1\" class=\"dataframe\">\n  <thead>\n    <tr style=\"text-align: right;\">\n      <th></th>\n      <th>math score</th>\n      <th>reading score</th>\n      <th>writing score</th>\n    </tr>\n  </thead>\n  <tbody>\n    <tr>\n      <th>count</th>\n      <td>1000.00000</td>\n      <td>1000.000000</td>\n      <td>1000.000000</td>\n    </tr>\n    <tr>\n      <th>mean</th>\n      <td>66.08900</td>\n      <td>69.169000</td>\n      <td>68.054000</td>\n    </tr>\n    <tr>\n      <th>std</th>\n      <td>15.16308</td>\n      <td>14.600192</td>\n      <td>15.195657</td>\n    </tr>\n    <tr>\n      <th>min</th>\n      <td>0.00000</td>\n      <td>17.000000</td>\n      <td>10.000000</td>\n    </tr>\n    <tr>\n      <th>25%</th>\n      <td>57.00000</td>\n      <td>59.000000</td>\n      <td>57.750000</td>\n    </tr>\n    <tr>\n      <th>50%</th>\n      <td>66.00000</td>\n      <td>70.000000</td>\n      <td>69.000000</td>\n    </tr>\n    <tr>\n      <th>75%</th>\n      <td>77.00000</td>\n      <td>79.000000</td>\n      <td>79.000000</td>\n    </tr>\n    <tr>\n      <th>max</th>\n      <td>100.00000</td>\n      <td>100.000000</td>\n      <td>100.000000</td>\n    </tr>\n  </tbody>\n</table>\n</div>"
     },
     "execution_count": 5,
     "metadata": {},
     "output_type": "execute_result"
    }
   ],
   "source": [
    "# your code here\n",
    "df.describe()\n"
   ]
  },
  {
   "cell_type": "markdown",
   "metadata": {
    "_uuid": "b26b7de83485ecb3b8a0a7865a596e24527c7b2f"
   },
   "source": [
    "#### Задание 5. Проверьте, есть ли в таблице пропущенные значения"
   ]
  },
  {
   "cell_type": "code",
   "execution_count": 6,
   "metadata": {
    "_uuid": "4eac3f8f83d07c6e58ad1576fe0e773f37034a2f",
    "ExecuteTime": {
     "end_time": "2023-12-12T17:17:44.308530100Z",
     "start_time": "2023-12-12T17:17:44.151076Z"
    }
   },
   "outputs": [
    {
     "data": {
      "text/plain": "False"
     },
     "execution_count": 6,
     "metadata": {},
     "output_type": "execute_result"
    }
   ],
   "source": [
    "# your code here\n",
    "df.isnull().any().any()"
   ]
  },
  {
   "cell_type": "markdown",
   "metadata": {},
   "source": [
    "#### Задание 6. Выведите на экран средние баллы студентов по каждому предмету (math, reading, writing)"
   ]
  },
  {
   "cell_type": "code",
   "execution_count": 7,
   "metadata": {
    "ExecuteTime": {
     "end_time": "2023-12-12T17:17:44.309528400Z",
     "start_time": "2023-12-12T17:17:44.171056400Z"
    }
   },
   "outputs": [
    {
     "name": "stdout",
     "output_type": "stream",
     "text": [
      "math score       66.089\n",
      "reading score    69.169\n",
      "writing score    68.054\n",
      "dtype: float64\n"
     ]
    }
   ],
   "source": [
    "# your code here\n",
    "print(df[['math score', 'reading score', 'writing score']].mean())"
   ]
  },
  {
   "cell_type": "markdown",
   "metadata": {},
   "source": [
    "**Задание 7. Как зависят оценки от того, проходил ли студент курс для подготовки к сдаче экзамена (test preparation course)? Выведите на экран для каждого предмета в отдельности средний балл студентов, проходивших курс для подготовки к экзамену и не проходивших курс.**"
   ]
  },
  {
   "cell_type": "code",
   "execution_count": 8,
   "metadata": {
    "ExecuteTime": {
     "end_time": "2023-12-12T17:17:44.526566500Z",
     "start_time": "2023-12-12T17:17:44.182742800Z"
    }
   },
   "outputs": [
    {
     "name": "stderr",
     "output_type": "stream",
     "text": [
      "C:\\Users\\Амир\\AppData\\Local\\Temp\\ipykernel_37016\\4281376576.py:2: FutureWarning: The default value of numeric_only in DataFrameGroupBy.mean is deprecated. In a future version, numeric_only will default to False. Either specify numeric_only or select only columns which should be valid for the function.\n",
      "  df.groupby(['test preparation course']).mean()\n"
     ]
    },
    {
     "data": {
      "text/plain": "                         math score  reading score  writing score\ntest preparation course                                          \ncompleted                 69.695531      73.893855      74.418994\nnone                      64.077882      66.534268      64.504673",
      "text/html": "<div>\n<style scoped>\n    .dataframe tbody tr th:only-of-type {\n        vertical-align: middle;\n    }\n\n    .dataframe tbody tr th {\n        vertical-align: top;\n    }\n\n    .dataframe thead th {\n        text-align: right;\n    }\n</style>\n<table border=\"1\" class=\"dataframe\">\n  <thead>\n    <tr style=\"text-align: right;\">\n      <th></th>\n      <th>math score</th>\n      <th>reading score</th>\n      <th>writing score</th>\n    </tr>\n    <tr>\n      <th>test preparation course</th>\n      <th></th>\n      <th></th>\n      <th></th>\n    </tr>\n  </thead>\n  <tbody>\n    <tr>\n      <th>completed</th>\n      <td>69.695531</td>\n      <td>73.893855</td>\n      <td>74.418994</td>\n    </tr>\n    <tr>\n      <th>none</th>\n      <td>64.077882</td>\n      <td>66.534268</td>\n      <td>64.504673</td>\n    </tr>\n  </tbody>\n</table>\n</div>"
     },
     "execution_count": 8,
     "metadata": {},
     "output_type": "execute_result"
    }
   ],
   "source": [
    "# your code here\n",
    "df.groupby(['test preparation course']).mean()\n"
   ]
  },
  {
   "cell_type": "markdown",
   "metadata": {},
   "source": [
    "**Задание 8. Выведите на экран все различные значения из столбца lunch.**"
   ]
  },
  {
   "cell_type": "code",
   "execution_count": 9,
   "metadata": {
    "ExecuteTime": {
     "end_time": "2023-12-12T17:17:44.527572200Z",
     "start_time": "2023-12-12T17:17:44.214314400Z"
    }
   },
   "outputs": [
    {
     "data": {
      "text/plain": "array(['standard', 'free/reduced'], dtype=object)"
     },
     "execution_count": 9,
     "metadata": {},
     "output_type": "execute_result"
    }
   ],
   "source": [
    "df['lunch'].unique()"
   ]
  },
  {
   "cell_type": "markdown",
   "metadata": {},
   "source": [
    "**Задание 9. Переименуйте колонку \"parental level of education\" в \"education\", а \"test preparation course\" в \"test preparation\" с помощью метода pandas rename**\n",
    "https://pandas.pydata.org/pandas-docs/stable/reference/api/pandas.DataFrame.rename.html"
   ]
  },
  {
   "cell_type": "code",
   "execution_count": 10,
   "metadata": {
    "ExecuteTime": {
     "end_time": "2023-12-12T17:17:44.576728500Z",
     "start_time": "2023-12-12T17:17:44.229829800Z"
    }
   },
   "outputs": [],
   "source": [
    "df.rename(columns={\"parental level of education\": \"education\", \"test preparation course\": \"test preparation\"},\n",
    "          inplace=True)"
   ]
  },
  {
   "cell_type": "markdown",
   "metadata": {},
   "source": [
    "**Зафиксируем минимальный балл для сдачи экзамена**"
   ]
  },
  {
   "cell_type": "code",
   "execution_count": 11,
   "metadata": {
    "ExecuteTime": {
     "end_time": "2023-12-12T17:17:44.668915900Z",
     "start_time": "2023-12-12T17:17:44.246386600Z"
    }
   },
   "outputs": [],
   "source": [
    "passmark = 50"
   ]
  },
  {
   "cell_type": "markdown",
   "metadata": {},
   "source": [
    "**Задание 10. Ответьте на вопросы:**\n",
    "    * Какая доля студентов сдала экзамен по математике (passmark >= 50)?\n",
    "    * Какая доля студентов, проходивших курс подготовки к экзамену, сдала экзамен по математике?\n",
    "    * Какая доля женщин, не проходивших курс подготовки к экзамену, не сдала экзамен по математике?"
   ]
  },
  {
   "cell_type": "code",
   "execution_count": 12,
   "metadata": {
    "ExecuteTime": {
     "end_time": "2023-12-12T17:17:44.668915900Z",
     "start_time": "2023-12-12T17:17:44.262400500Z"
    }
   },
   "outputs": [
    {
     "name": "stdout",
     "output_type": "stream",
     "text": [
      "0.865\n",
      "0.33\n",
      "0.20958083832335328\n"
     ]
    }
   ],
   "source": [
    "print(sum(df['math score'] >= passmark) / len(df))\n",
    "print(len(df[(df['test preparation'] == 'completed') & (df['math score'] >= passmark)]) / len(\n",
    "    df['test preparation'] == 'completed'))\n",
    "print(len(df[(df['test preparation'] == 'none') & (df['gender'] == 'female') & (df['math score'] < passmark)]) / len(\n",
    "    df[(df['test preparation'] == 'none') & (df['gender'] == 'female')]))"
   ]
  },
  {
   "cell_type": "markdown",
   "metadata": {},
   "source": [
    "**Задание 11. С помощью groupby выполните задания ниже. Также выведите время выполнения каждого из заданий.**\n",
    "    * Для каждой этнической группы выведите средний балл за экзамен по чтению\n",
    "    * Для каждого уровня образования выведите минимальный балл за экзамен по письму"
   ]
  },
  {
   "cell_type": "code",
   "execution_count": 13,
   "metadata": {
    "ExecuteTime": {
     "end_time": "2023-12-12T17:17:44.686712600Z",
     "start_time": "2023-12-12T17:17:44.282440800Z"
    }
   },
   "outputs": [
    {
     "name": "stdout",
     "output_type": "stream",
     "text": [
      "race/ethnicity\n",
      "group A    64.674157\n",
      "group B    67.352632\n",
      "group C    69.103448\n",
      "group D    70.030534\n",
      "group E    73.028571\n",
      "Name: reading score, dtype: float64\n",
      "time: 0.008522510528564453\n",
      "education\n",
      "associate's degree    35\n",
      "bachelor's degree     38\n",
      "high school           15\n",
      "master's degree       46\n",
      "some college          19\n",
      "some high school      10\n",
      "Name: writing score, dtype: int64\n",
      "time: 0.0030007362365722656\n"
     ]
    }
   ],
   "source": [
    "t = time.time()\n",
    "print(df.groupby('race/ethnicity')['reading score'].mean())\n",
    "print('time:', time.time() - t)\n",
    "t = time.time()\n",
    "print(df.groupby('education')['writing score'].min())\n",
    "print('time:', time.time() - t)"
   ]
  },
  {
   "cell_type": "markdown",
   "metadata": {},
   "source": [
    "**Задание 12. Выполните задание 11 с помощью циклов. Сравните время выполнения.**"
   ]
  },
  {
   "cell_type": "code",
   "execution_count": 14,
   "metadata": {
    "ExecuteTime": {
     "end_time": "2023-12-12T17:17:44.754742700Z",
     "start_time": "2023-12-12T17:17:44.313054900Z"
    }
   },
   "outputs": [
    {
     "name": "stdout",
     "output_type": "stream",
     "text": [
      "group A 64.67415730337079\n",
      "group B 67.35263157894737\n",
      "group C 69.10344827586206\n",
      "group D 70.03053435114504\n",
      "group E 73.02857142857142\n",
      "time: 0.019030332565307617\n",
      "\n",
      "associate's degree 35\n",
      "bachelor's degree 38\n",
      "high school 15\n",
      "master's degree 46\n",
      "some college 19\n",
      "some high school 10\n",
      "time: 0.018144845962524414\n"
     ]
    }
   ],
   "source": [
    "from collections import defaultdict\n",
    "\n",
    "t = time.time()\n",
    "di = {'group B': [0, 0], 'group C': [0, 0], 'group A': [0, 0], 'group D': [0, 0], 'group E': [0, 0]}\n",
    "for i in range(len(df)):\n",
    "    di[df['race/ethnicity'][i]][0] += df['reading score'][i]\n",
    "    di[df['race/ethnicity'][i]][1] += 1\n",
    "for i in sorted(di.items(), key=lambda x: x[0]):\n",
    "    print(i[0], i[1][0] / i[1][1])\n",
    "print('time:', time.time() - t)\n",
    "print()\n",
    "\n",
    "t = time.time()\n",
    "di = {\"bachelor's degree\": 100, 'some college': 100, \"master's degree\": 100, \"associate's degree\": 100,\n",
    "      'high school': 100, 'some high school': 100}\n",
    "# for i in df['education'].unique():\n",
    "#     di[i] = 100\n",
    "for i in range(len(df)):\n",
    "    di[df['education'][i]] = min(di[df['education'][i]], df['writing score'][i])\n",
    "\n",
    "for i in sorted(di.items()):\n",
    "    print(*i)\n",
    "print('time:', time.time() - t)\n"
   ]
  },
  {
   "cell_type": "markdown",
   "metadata": {},
   "source": [
    "**Задание 13. Выведите на экран средние баллы студентов по каждому предмету в зависимости от пола и уровня образования. То есть должно получиться количество групп, равных 2 * (число уровней образования), и для каждой такой группы выыведите средний балл по каждому из предметов.**\n",
    "\n",
    "Это можно сделать с помощью сводных таблиц (pivot_table):\n",
    "\n",
    "https://www.kaggle.com/kamilpolak/tutorial-how-to-use-pivot-table-in-pandas"
   ]
  },
  {
   "cell_type": "code",
   "execution_count": 15,
   "metadata": {
    "ExecuteTime": {
     "end_time": "2023-12-12T17:17:44.796698100Z",
     "start_time": "2023-12-12T17:17:44.371251500Z"
    }
   },
   "outputs": [
    {
     "data": {
      "text/plain": "                           math score  reading score  writing score\ngender education                                                   \nfemale associate's degree   65.250000      74.120690      74.000000\n       bachelor's degree    68.349206      77.285714      78.380952\n       high school          59.351064      68.202128      66.691489\n       master's degree      66.500000      76.805556      77.638889\n       some college         65.406780      73.550847      74.050847\n       some high school     59.296703      69.109890      68.285714\nmale   associate's degree   70.764151      67.433962      65.405660\n       bachelor's degree    70.581818      68.090909      67.654545\n       high school          64.705882      61.480392      58.539216\n       master's degree      74.826087      73.130435      72.608696\n       some college         69.009259      64.990741      63.148148\n       some high school     67.840909      64.693182      61.375000",
      "text/html": "<div>\n<style scoped>\n    .dataframe tbody tr th:only-of-type {\n        vertical-align: middle;\n    }\n\n    .dataframe tbody tr th {\n        vertical-align: top;\n    }\n\n    .dataframe thead th {\n        text-align: right;\n    }\n</style>\n<table border=\"1\" class=\"dataframe\">\n  <thead>\n    <tr style=\"text-align: right;\">\n      <th></th>\n      <th></th>\n      <th>math score</th>\n      <th>reading score</th>\n      <th>writing score</th>\n    </tr>\n    <tr>\n      <th>gender</th>\n      <th>education</th>\n      <th></th>\n      <th></th>\n      <th></th>\n    </tr>\n  </thead>\n  <tbody>\n    <tr>\n      <th rowspan=\"6\" valign=\"top\">female</th>\n      <th>associate's degree</th>\n      <td>65.250000</td>\n      <td>74.120690</td>\n      <td>74.000000</td>\n    </tr>\n    <tr>\n      <th>bachelor's degree</th>\n      <td>68.349206</td>\n      <td>77.285714</td>\n      <td>78.380952</td>\n    </tr>\n    <tr>\n      <th>high school</th>\n      <td>59.351064</td>\n      <td>68.202128</td>\n      <td>66.691489</td>\n    </tr>\n    <tr>\n      <th>master's degree</th>\n      <td>66.500000</td>\n      <td>76.805556</td>\n      <td>77.638889</td>\n    </tr>\n    <tr>\n      <th>some college</th>\n      <td>65.406780</td>\n      <td>73.550847</td>\n      <td>74.050847</td>\n    </tr>\n    <tr>\n      <th>some high school</th>\n      <td>59.296703</td>\n      <td>69.109890</td>\n      <td>68.285714</td>\n    </tr>\n    <tr>\n      <th rowspan=\"6\" valign=\"top\">male</th>\n      <th>associate's degree</th>\n      <td>70.764151</td>\n      <td>67.433962</td>\n      <td>65.405660</td>\n    </tr>\n    <tr>\n      <th>bachelor's degree</th>\n      <td>70.581818</td>\n      <td>68.090909</td>\n      <td>67.654545</td>\n    </tr>\n    <tr>\n      <th>high school</th>\n      <td>64.705882</td>\n      <td>61.480392</td>\n      <td>58.539216</td>\n    </tr>\n    <tr>\n      <th>master's degree</th>\n      <td>74.826087</td>\n      <td>73.130435</td>\n      <td>72.608696</td>\n    </tr>\n    <tr>\n      <th>some college</th>\n      <td>69.009259</td>\n      <td>64.990741</td>\n      <td>63.148148</td>\n    </tr>\n    <tr>\n      <th>some high school</th>\n      <td>67.840909</td>\n      <td>64.693182</td>\n      <td>61.375000</td>\n    </tr>\n  </tbody>\n</table>\n</div>"
     },
     "execution_count": 15,
     "metadata": {},
     "output_type": "execute_result"
    }
   ],
   "source": [
    "# your code here\n",
    "df.pivot_table(index=['gender', 'education'], values=['math score', 'reading score', 'writing score'], aggfunc='mean')"
   ]
  },
  {
   "cell_type": "markdown",
   "metadata": {
    "_uuid": "3e832cb427c4314582d1953a41b8c78db75e30e3"
   },
   "source": [
    "#### Задание 14. Сколько студентов успешно сдали экзамен по математике?\n",
    "\n",
    "Создайте новый столбец в таблице df под названием Math_PassStatus и запишите в него F, если студент не сдал экзамен по математике (балл за экзамен < passmark), и P иначе.\n",
    "\n",
    "Посчитайте количество студентов, сдавших и не сдавших экзамен по математике.\n",
    "\n",
    "Сделайте аналогичные шаги для экзаменов по чтению и письму."
   ]
  },
  {
   "cell_type": "code",
   "execution_count": 16,
   "metadata": {
    "_uuid": "f43cddb72cc96b30df84bc0de83a4d9170904340",
    "ExecuteTime": {
     "end_time": "2023-12-12T17:17:44.852459900Z",
     "start_time": "2023-12-12T17:17:44.404223800Z"
    }
   },
   "outputs": [
    {
     "name": "stdout",
     "output_type": "stream",
     "text": [
      "865 135\n",
      "910 90\n",
      "886 114\n"
     ]
    },
    {
     "data": {
      "text/plain": "       gender race/ethnicity           education         lunch  \\\nindex                                                            \n0      female        group B   bachelor's degree      standard   \n1      female        group C        some college      standard   \n2      female        group B     master's degree      standard   \n3        male        group A  associate's degree  free/reduced   \n4        male        group C        some college      standard   \n...       ...            ...                 ...           ...   \n995    female        group E     master's degree      standard   \n996      male        group C         high school  free/reduced   \n997    female        group C         high school  free/reduced   \n998    female        group D        some college      standard   \n999    female        group D        some college  free/reduced   \n\n      test preparation    group  math score  reading score  writing score  \\\nindex                                                                       \n0                 none   group1          72             72             74   \n1            completed   group1          69             90             88   \n2                 none   group1          90             95             93   \n3                 none   group1          47             57             44   \n4                 none   group1          76             78             75   \n...                ...      ...         ...            ...            ...   \n995          completed  group10          88             99             95   \n996               none  group10          62             55             55   \n997          completed  group10          59             71             65   \n998          completed  group10          68             78             77   \n999               none  group10          77             86             86   \n\n      Math_PassStatus Reading_PassStatus Writing_PassStatus  \nindex                                                        \n0                   P                  P                  P  \n1                   P                  P                  P  \n2                   P                  P                  P  \n3                   F                  P                  F  \n4                   P                  P                  P  \n...               ...                ...                ...  \n995                 P                  P                  P  \n996                 P                  P                  P  \n997                 P                  P                  P  \n998                 P                  P                  P  \n999                 P                  P                  P  \n\n[1000 rows x 12 columns]",
      "text/html": "<div>\n<style scoped>\n    .dataframe tbody tr th:only-of-type {\n        vertical-align: middle;\n    }\n\n    .dataframe tbody tr th {\n        vertical-align: top;\n    }\n\n    .dataframe thead th {\n        text-align: right;\n    }\n</style>\n<table border=\"1\" class=\"dataframe\">\n  <thead>\n    <tr style=\"text-align: right;\">\n      <th></th>\n      <th>gender</th>\n      <th>race/ethnicity</th>\n      <th>education</th>\n      <th>lunch</th>\n      <th>test preparation</th>\n      <th>group</th>\n      <th>math score</th>\n      <th>reading score</th>\n      <th>writing score</th>\n      <th>Math_PassStatus</th>\n      <th>Reading_PassStatus</th>\n      <th>Writing_PassStatus</th>\n    </tr>\n    <tr>\n      <th>index</th>\n      <th></th>\n      <th></th>\n      <th></th>\n      <th></th>\n      <th></th>\n      <th></th>\n      <th></th>\n      <th></th>\n      <th></th>\n      <th></th>\n      <th></th>\n      <th></th>\n    </tr>\n  </thead>\n  <tbody>\n    <tr>\n      <th>0</th>\n      <td>female</td>\n      <td>group B</td>\n      <td>bachelor's degree</td>\n      <td>standard</td>\n      <td>none</td>\n      <td>group1</td>\n      <td>72</td>\n      <td>72</td>\n      <td>74</td>\n      <td>P</td>\n      <td>P</td>\n      <td>P</td>\n    </tr>\n    <tr>\n      <th>1</th>\n      <td>female</td>\n      <td>group C</td>\n      <td>some college</td>\n      <td>standard</td>\n      <td>completed</td>\n      <td>group1</td>\n      <td>69</td>\n      <td>90</td>\n      <td>88</td>\n      <td>P</td>\n      <td>P</td>\n      <td>P</td>\n    </tr>\n    <tr>\n      <th>2</th>\n      <td>female</td>\n      <td>group B</td>\n      <td>master's degree</td>\n      <td>standard</td>\n      <td>none</td>\n      <td>group1</td>\n      <td>90</td>\n      <td>95</td>\n      <td>93</td>\n      <td>P</td>\n      <td>P</td>\n      <td>P</td>\n    </tr>\n    <tr>\n      <th>3</th>\n      <td>male</td>\n      <td>group A</td>\n      <td>associate's degree</td>\n      <td>free/reduced</td>\n      <td>none</td>\n      <td>group1</td>\n      <td>47</td>\n      <td>57</td>\n      <td>44</td>\n      <td>F</td>\n      <td>P</td>\n      <td>F</td>\n    </tr>\n    <tr>\n      <th>4</th>\n      <td>male</td>\n      <td>group C</td>\n      <td>some college</td>\n      <td>standard</td>\n      <td>none</td>\n      <td>group1</td>\n      <td>76</td>\n      <td>78</td>\n      <td>75</td>\n      <td>P</td>\n      <td>P</td>\n      <td>P</td>\n    </tr>\n    <tr>\n      <th>...</th>\n      <td>...</td>\n      <td>...</td>\n      <td>...</td>\n      <td>...</td>\n      <td>...</td>\n      <td>...</td>\n      <td>...</td>\n      <td>...</td>\n      <td>...</td>\n      <td>...</td>\n      <td>...</td>\n      <td>...</td>\n    </tr>\n    <tr>\n      <th>995</th>\n      <td>female</td>\n      <td>group E</td>\n      <td>master's degree</td>\n      <td>standard</td>\n      <td>completed</td>\n      <td>group10</td>\n      <td>88</td>\n      <td>99</td>\n      <td>95</td>\n      <td>P</td>\n      <td>P</td>\n      <td>P</td>\n    </tr>\n    <tr>\n      <th>996</th>\n      <td>male</td>\n      <td>group C</td>\n      <td>high school</td>\n      <td>free/reduced</td>\n      <td>none</td>\n      <td>group10</td>\n      <td>62</td>\n      <td>55</td>\n      <td>55</td>\n      <td>P</td>\n      <td>P</td>\n      <td>P</td>\n    </tr>\n    <tr>\n      <th>997</th>\n      <td>female</td>\n      <td>group C</td>\n      <td>high school</td>\n      <td>free/reduced</td>\n      <td>completed</td>\n      <td>group10</td>\n      <td>59</td>\n      <td>71</td>\n      <td>65</td>\n      <td>P</td>\n      <td>P</td>\n      <td>P</td>\n    </tr>\n    <tr>\n      <th>998</th>\n      <td>female</td>\n      <td>group D</td>\n      <td>some college</td>\n      <td>standard</td>\n      <td>completed</td>\n      <td>group10</td>\n      <td>68</td>\n      <td>78</td>\n      <td>77</td>\n      <td>P</td>\n      <td>P</td>\n      <td>P</td>\n    </tr>\n    <tr>\n      <th>999</th>\n      <td>female</td>\n      <td>group D</td>\n      <td>some college</td>\n      <td>free/reduced</td>\n      <td>none</td>\n      <td>group10</td>\n      <td>77</td>\n      <td>86</td>\n      <td>86</td>\n      <td>P</td>\n      <td>P</td>\n      <td>P</td>\n    </tr>\n  </tbody>\n</table>\n<p>1000 rows × 12 columns</p>\n</div>"
     },
     "execution_count": 16,
     "metadata": {},
     "output_type": "execute_result"
    }
   ],
   "source": [
    "def countpass(x):\n",
    "    global c, f\n",
    "    if x >= passmark:\n",
    "        c += 1\n",
    "        return 'P'\n",
    "    f += 1\n",
    "    return 'F'\n",
    "c = 0\n",
    "f = 0\n",
    "df['Math_PassStatus'] = df['math score'].apply(countpass)\n",
    "print(c, f)\n",
    "c = 0\n",
    "f = 0\n",
    "df['Reading_PassStatus'] = df['reading score'].apply(countpass)\n",
    "print(c, f)\n",
    "c = 0\n",
    "f = 0\n",
    "df['Writing_PassStatus'] = df['writing score'].apply(countpass)\n",
    "print(c, f)\n",
    "c = 0\n",
    "f = 0\n",
    "# df['Math_PassStatus'][df['math score'] < passmark] = 'F'\n",
    "# df['Math_PassStatus'][df['math score'] >= passmark] = 'P'\n",
    "\n",
    "df\n"
   ]
  },
  {
   "cell_type": "markdown",
   "metadata": {
    "_uuid": "b753c90914ee65501e2ed263ea614d88a381c472"
   },
   "source": [
    "#### Задание 15. Сколько студентов успешно сдали все экзамены?\n",
    "\n",
    "Создайте столбец OverAll_PassStatus и запишите в него для каждого студента 'F', если студент не сдал хотя бы один из трех экзаменов, а иначе 'P'.\n",
    "\n",
    "Посчитайте количество студентов, которые сдали все экзамены."
   ]
  },
  {
   "cell_type": "code",
   "execution_count": 17,
   "metadata": {
    "_uuid": "e98f895a022b967cab801447b616222439fe9d84",
    "ExecuteTime": {
     "end_time": "2023-12-12T17:17:44.873346300Z",
     "start_time": "2023-12-12T17:17:44.434899900Z"
    }
   },
   "outputs": [
    {
     "name": "stdout",
     "output_type": "stream",
     "text": [
      "812\n"
     ]
    },
    {
     "data": {
      "text/plain": "       gender race/ethnicity           education         lunch  \\\nindex                                                            \n0      female        group B   bachelor's degree      standard   \n1      female        group C        some college      standard   \n2      female        group B     master's degree      standard   \n3        male        group A  associate's degree  free/reduced   \n4        male        group C        some college      standard   \n...       ...            ...                 ...           ...   \n995    female        group E     master's degree      standard   \n996      male        group C         high school  free/reduced   \n997    female        group C         high school  free/reduced   \n998    female        group D        some college      standard   \n999    female        group D        some college  free/reduced   \n\n      test preparation    group  math score  reading score  writing score  \\\nindex                                                                       \n0                 none   group1          72             72             74   \n1            completed   group1          69             90             88   \n2                 none   group1          90             95             93   \n3                 none   group1          47             57             44   \n4                 none   group1          76             78             75   \n...                ...      ...         ...            ...            ...   \n995          completed  group10          88             99             95   \n996               none  group10          62             55             55   \n997          completed  group10          59             71             65   \n998          completed  group10          68             78             77   \n999               none  group10          77             86             86   \n\n      Math_PassStatus Reading_PassStatus Writing_PassStatus OverAll_PassStatus  \nindex                                                                           \n0                   P                  P                  P                  P  \n1                   P                  P                  P                  P  \n2                   P                  P                  P                  P  \n3                   F                  P                  F                  F  \n4                   P                  P                  P                  P  \n...               ...                ...                ...                ...  \n995                 P                  P                  P                  P  \n996                 P                  P                  P                  P  \n997                 P                  P                  P                  P  \n998                 P                  P                  P                  P  \n999                 P                  P                  P                  P  \n\n[1000 rows x 13 columns]",
      "text/html": "<div>\n<style scoped>\n    .dataframe tbody tr th:only-of-type {\n        vertical-align: middle;\n    }\n\n    .dataframe tbody tr th {\n        vertical-align: top;\n    }\n\n    .dataframe thead th {\n        text-align: right;\n    }\n</style>\n<table border=\"1\" class=\"dataframe\">\n  <thead>\n    <tr style=\"text-align: right;\">\n      <th></th>\n      <th>gender</th>\n      <th>race/ethnicity</th>\n      <th>education</th>\n      <th>lunch</th>\n      <th>test preparation</th>\n      <th>group</th>\n      <th>math score</th>\n      <th>reading score</th>\n      <th>writing score</th>\n      <th>Math_PassStatus</th>\n      <th>Reading_PassStatus</th>\n      <th>Writing_PassStatus</th>\n      <th>OverAll_PassStatus</th>\n    </tr>\n    <tr>\n      <th>index</th>\n      <th></th>\n      <th></th>\n      <th></th>\n      <th></th>\n      <th></th>\n      <th></th>\n      <th></th>\n      <th></th>\n      <th></th>\n      <th></th>\n      <th></th>\n      <th></th>\n      <th></th>\n    </tr>\n  </thead>\n  <tbody>\n    <tr>\n      <th>0</th>\n      <td>female</td>\n      <td>group B</td>\n      <td>bachelor's degree</td>\n      <td>standard</td>\n      <td>none</td>\n      <td>group1</td>\n      <td>72</td>\n      <td>72</td>\n      <td>74</td>\n      <td>P</td>\n      <td>P</td>\n      <td>P</td>\n      <td>P</td>\n    </tr>\n    <tr>\n      <th>1</th>\n      <td>female</td>\n      <td>group C</td>\n      <td>some college</td>\n      <td>standard</td>\n      <td>completed</td>\n      <td>group1</td>\n      <td>69</td>\n      <td>90</td>\n      <td>88</td>\n      <td>P</td>\n      <td>P</td>\n      <td>P</td>\n      <td>P</td>\n    </tr>\n    <tr>\n      <th>2</th>\n      <td>female</td>\n      <td>group B</td>\n      <td>master's degree</td>\n      <td>standard</td>\n      <td>none</td>\n      <td>group1</td>\n      <td>90</td>\n      <td>95</td>\n      <td>93</td>\n      <td>P</td>\n      <td>P</td>\n      <td>P</td>\n      <td>P</td>\n    </tr>\n    <tr>\n      <th>3</th>\n      <td>male</td>\n      <td>group A</td>\n      <td>associate's degree</td>\n      <td>free/reduced</td>\n      <td>none</td>\n      <td>group1</td>\n      <td>47</td>\n      <td>57</td>\n      <td>44</td>\n      <td>F</td>\n      <td>P</td>\n      <td>F</td>\n      <td>F</td>\n    </tr>\n    <tr>\n      <th>4</th>\n      <td>male</td>\n      <td>group C</td>\n      <td>some college</td>\n      <td>standard</td>\n      <td>none</td>\n      <td>group1</td>\n      <td>76</td>\n      <td>78</td>\n      <td>75</td>\n      <td>P</td>\n      <td>P</td>\n      <td>P</td>\n      <td>P</td>\n    </tr>\n    <tr>\n      <th>...</th>\n      <td>...</td>\n      <td>...</td>\n      <td>...</td>\n      <td>...</td>\n      <td>...</td>\n      <td>...</td>\n      <td>...</td>\n      <td>...</td>\n      <td>...</td>\n      <td>...</td>\n      <td>...</td>\n      <td>...</td>\n      <td>...</td>\n    </tr>\n    <tr>\n      <th>995</th>\n      <td>female</td>\n      <td>group E</td>\n      <td>master's degree</td>\n      <td>standard</td>\n      <td>completed</td>\n      <td>group10</td>\n      <td>88</td>\n      <td>99</td>\n      <td>95</td>\n      <td>P</td>\n      <td>P</td>\n      <td>P</td>\n      <td>P</td>\n    </tr>\n    <tr>\n      <th>996</th>\n      <td>male</td>\n      <td>group C</td>\n      <td>high school</td>\n      <td>free/reduced</td>\n      <td>none</td>\n      <td>group10</td>\n      <td>62</td>\n      <td>55</td>\n      <td>55</td>\n      <td>P</td>\n      <td>P</td>\n      <td>P</td>\n      <td>P</td>\n    </tr>\n    <tr>\n      <th>997</th>\n      <td>female</td>\n      <td>group C</td>\n      <td>high school</td>\n      <td>free/reduced</td>\n      <td>completed</td>\n      <td>group10</td>\n      <td>59</td>\n      <td>71</td>\n      <td>65</td>\n      <td>P</td>\n      <td>P</td>\n      <td>P</td>\n      <td>P</td>\n    </tr>\n    <tr>\n      <th>998</th>\n      <td>female</td>\n      <td>group D</td>\n      <td>some college</td>\n      <td>standard</td>\n      <td>completed</td>\n      <td>group10</td>\n      <td>68</td>\n      <td>78</td>\n      <td>77</td>\n      <td>P</td>\n      <td>P</td>\n      <td>P</td>\n      <td>P</td>\n    </tr>\n    <tr>\n      <th>999</th>\n      <td>female</td>\n      <td>group D</td>\n      <td>some college</td>\n      <td>free/reduced</td>\n      <td>none</td>\n      <td>group10</td>\n      <td>77</td>\n      <td>86</td>\n      <td>86</td>\n      <td>P</td>\n      <td>P</td>\n      <td>P</td>\n      <td>P</td>\n    </tr>\n  </tbody>\n</table>\n<p>1000 rows × 13 columns</p>\n</div>"
     },
     "execution_count": 17,
     "metadata": {},
     "output_type": "execute_result"
    }
   ],
   "source": [
    "def countpass(x):\n",
    "    global c\n",
    "    if min(x) >= passmark:\n",
    "        c += 1\n",
    "        return 'P'\n",
    "    return 'F'\n",
    "c = 0\n",
    "df['OverAll_PassStatus'] = df[['math score', 'writing score', 'reading score']].apply(countpass, axis=1)\n",
    "print(c)\n",
    "df"
   ]
  },
  {
   "cell_type": "markdown",
   "metadata": {
    "_uuid": "3af9c6cb4cbfff66d4ae09509f10b8b6ce33075d"
   },
   "source": [
    "#### Задание 16. Переведем баллы в оценки\n",
    "\n",
    "### Система перевода баллов в оценки\n",
    "####    больше 90 = A\n",
    "####      80-90 = B\n",
    "####      70-80 = C\n",
    "####      60-70 = D\n",
    "####      50-60 = E\n",
    "####    меньше 50 = F (Fail)\n",
    "\n",
    "Создайте вспомогательную функцию, которая будет по среднему баллу за три экзамена выставлять оценку студенту по данным выше критериям.\n",
    "\n",
    "Создайте столбец Grade и запишите в него оценку каждого студента.\n",
    "\n",
    "Выведите количество студентов, получивших каждую из оценок.\n",
    "\n",
    "**В случае, если средний балл попадает на границу между оценками (т.е. равен ровно 60, 70 или 80 баллов), вы можете интерпретировать условие на своё усмотрение (т.е. можете поставить за 60 баллов оценку D, а можете - E).**"
   ]
  },
  {
   "cell_type": "code",
   "execution_count": 18,
   "metadata": {
    "_uuid": "04707c5be4237020b906d2ac705a0db3d620506f",
    "ExecuteTime": {
     "end_time": "2023-12-12T17:17:52.388551200Z",
     "start_time": "2023-12-12T17:17:52.327079400Z"
    }
   },
   "outputs": [
    {
     "data": {
      "text/plain": "       gender race/ethnicity           education         lunch  \\\nindex                                                            \n0      female        group B   bachelor's degree      standard   \n1      female        group C        some college      standard   \n2      female        group B     master's degree      standard   \n3        male        group A  associate's degree  free/reduced   \n4        male        group C        some college      standard   \n...       ...            ...                 ...           ...   \n995    female        group E     master's degree      standard   \n996      male        group C         high school  free/reduced   \n997    female        group C         high school  free/reduced   \n998    female        group D        some college      standard   \n999    female        group D        some college  free/reduced   \n\n      test preparation    group  math score  reading score  writing score  \\\nindex                                                                       \n0                 none   group1          72             72             74   \n1            completed   group1          69             90             88   \n2                 none   group1          90             95             93   \n3                 none   group1          47             57             44   \n4                 none   group1          76             78             75   \n...                ...      ...         ...            ...            ...   \n995          completed  group10          88             99             95   \n996               none  group10          62             55             55   \n997          completed  group10          59             71             65   \n998          completed  group10          68             78             77   \n999               none  group10          77             86             86   \n\n      Math_PassStatus Reading_PassStatus Writing_PassStatus  \\\nindex                                                         \n0                   P                  P                  P   \n1                   P                  P                  P   \n2                   P                  P                  P   \n3                   F                  P                  F   \n4                   P                  P                  P   \n...               ...                ...                ...   \n995                 P                  P                  P   \n996                 P                  P                  P   \n997                 P                  P                  P   \n998                 P                  P                  P   \n999                 P                  P                  P   \n\n      OverAll_PassStatus Grade  \nindex                           \n0                      P     C  \n1                      P     B  \n2                      P     A  \n3                      F     F  \n4                      P     C  \n...                  ...   ...  \n995                    P     A  \n996                    P     E  \n997                    P     D  \n998                    P     C  \n999                    P     B  \n\n[1000 rows x 14 columns]",
      "text/html": "<div>\n<style scoped>\n    .dataframe tbody tr th:only-of-type {\n        vertical-align: middle;\n    }\n\n    .dataframe tbody tr th {\n        vertical-align: top;\n    }\n\n    .dataframe thead th {\n        text-align: right;\n    }\n</style>\n<table border=\"1\" class=\"dataframe\">\n  <thead>\n    <tr style=\"text-align: right;\">\n      <th></th>\n      <th>gender</th>\n      <th>race/ethnicity</th>\n      <th>education</th>\n      <th>lunch</th>\n      <th>test preparation</th>\n      <th>group</th>\n      <th>math score</th>\n      <th>reading score</th>\n      <th>writing score</th>\n      <th>Math_PassStatus</th>\n      <th>Reading_PassStatus</th>\n      <th>Writing_PassStatus</th>\n      <th>OverAll_PassStatus</th>\n      <th>Grade</th>\n    </tr>\n    <tr>\n      <th>index</th>\n      <th></th>\n      <th></th>\n      <th></th>\n      <th></th>\n      <th></th>\n      <th></th>\n      <th></th>\n      <th></th>\n      <th></th>\n      <th></th>\n      <th></th>\n      <th></th>\n      <th></th>\n      <th></th>\n    </tr>\n  </thead>\n  <tbody>\n    <tr>\n      <th>0</th>\n      <td>female</td>\n      <td>group B</td>\n      <td>bachelor's degree</td>\n      <td>standard</td>\n      <td>none</td>\n      <td>group1</td>\n      <td>72</td>\n      <td>72</td>\n      <td>74</td>\n      <td>P</td>\n      <td>P</td>\n      <td>P</td>\n      <td>P</td>\n      <td>C</td>\n    </tr>\n    <tr>\n      <th>1</th>\n      <td>female</td>\n      <td>group C</td>\n      <td>some college</td>\n      <td>standard</td>\n      <td>completed</td>\n      <td>group1</td>\n      <td>69</td>\n      <td>90</td>\n      <td>88</td>\n      <td>P</td>\n      <td>P</td>\n      <td>P</td>\n      <td>P</td>\n      <td>B</td>\n    </tr>\n    <tr>\n      <th>2</th>\n      <td>female</td>\n      <td>group B</td>\n      <td>master's degree</td>\n      <td>standard</td>\n      <td>none</td>\n      <td>group1</td>\n      <td>90</td>\n      <td>95</td>\n      <td>93</td>\n      <td>P</td>\n      <td>P</td>\n      <td>P</td>\n      <td>P</td>\n      <td>A</td>\n    </tr>\n    <tr>\n      <th>3</th>\n      <td>male</td>\n      <td>group A</td>\n      <td>associate's degree</td>\n      <td>free/reduced</td>\n      <td>none</td>\n      <td>group1</td>\n      <td>47</td>\n      <td>57</td>\n      <td>44</td>\n      <td>F</td>\n      <td>P</td>\n      <td>F</td>\n      <td>F</td>\n      <td>F</td>\n    </tr>\n    <tr>\n      <th>4</th>\n      <td>male</td>\n      <td>group C</td>\n      <td>some college</td>\n      <td>standard</td>\n      <td>none</td>\n      <td>group1</td>\n      <td>76</td>\n      <td>78</td>\n      <td>75</td>\n      <td>P</td>\n      <td>P</td>\n      <td>P</td>\n      <td>P</td>\n      <td>C</td>\n    </tr>\n    <tr>\n      <th>...</th>\n      <td>...</td>\n      <td>...</td>\n      <td>...</td>\n      <td>...</td>\n      <td>...</td>\n      <td>...</td>\n      <td>...</td>\n      <td>...</td>\n      <td>...</td>\n      <td>...</td>\n      <td>...</td>\n      <td>...</td>\n      <td>...</td>\n      <td>...</td>\n    </tr>\n    <tr>\n      <th>995</th>\n      <td>female</td>\n      <td>group E</td>\n      <td>master's degree</td>\n      <td>standard</td>\n      <td>completed</td>\n      <td>group10</td>\n      <td>88</td>\n      <td>99</td>\n      <td>95</td>\n      <td>P</td>\n      <td>P</td>\n      <td>P</td>\n      <td>P</td>\n      <td>A</td>\n    </tr>\n    <tr>\n      <th>996</th>\n      <td>male</td>\n      <td>group C</td>\n      <td>high school</td>\n      <td>free/reduced</td>\n      <td>none</td>\n      <td>group10</td>\n      <td>62</td>\n      <td>55</td>\n      <td>55</td>\n      <td>P</td>\n      <td>P</td>\n      <td>P</td>\n      <td>P</td>\n      <td>E</td>\n    </tr>\n    <tr>\n      <th>997</th>\n      <td>female</td>\n      <td>group C</td>\n      <td>high school</td>\n      <td>free/reduced</td>\n      <td>completed</td>\n      <td>group10</td>\n      <td>59</td>\n      <td>71</td>\n      <td>65</td>\n      <td>P</td>\n      <td>P</td>\n      <td>P</td>\n      <td>P</td>\n      <td>D</td>\n    </tr>\n    <tr>\n      <th>998</th>\n      <td>female</td>\n      <td>group D</td>\n      <td>some college</td>\n      <td>standard</td>\n      <td>completed</td>\n      <td>group10</td>\n      <td>68</td>\n      <td>78</td>\n      <td>77</td>\n      <td>P</td>\n      <td>P</td>\n      <td>P</td>\n      <td>P</td>\n      <td>C</td>\n    </tr>\n    <tr>\n      <th>999</th>\n      <td>female</td>\n      <td>group D</td>\n      <td>some college</td>\n      <td>free/reduced</td>\n      <td>none</td>\n      <td>group10</td>\n      <td>77</td>\n      <td>86</td>\n      <td>86</td>\n      <td>P</td>\n      <td>P</td>\n      <td>P</td>\n      <td>P</td>\n      <td>B</td>\n    </tr>\n  </tbody>\n</table>\n<p>1000 rows × 14 columns</p>\n</div>"
     },
     "metadata": {},
     "output_type": "display_data"
    },
    {
     "data": {
      "text/plain": "C    261\nD    256\nE    182\nB    148\nF    103\nA     50\nName: Grade, dtype: int64"
     },
     "execution_count": 18,
     "metadata": {},
     "output_type": "execute_result"
    }
   ],
   "source": [
    "def GetGrade(average_mark):\n",
    "    if 90 < average_mark:\n",
    "        return 'A'\n",
    "    if 80 <= average_mark:\n",
    "        return 'B'\n",
    "    if 70 <= average_mark:\n",
    "        return 'C'\n",
    "    if 60 <= average_mark:\n",
    "        return 'D'\n",
    "    if 50 <= average_mark:\n",
    "        return 'E'\n",
    "    return 'F'\n",
    "\n",
    "df['Grade'] = df[['math score', 'writing score', 'reading score']].apply(lambda x: GetGrade(x.mean()), axis=1)\n",
    "display(df)\n",
    "df['Grade'].value_counts()\n",
    "\n",
    "# your code here"
   ]
  }
 ],
 "metadata": {
  "kernelspec": {
   "display_name": "Python 3 (ipykernel)",
   "language": "python",
   "name": "python3"
  },
  "language_info": {
   "codemirror_mode": {
    "name": "ipython",
    "version": 3
   },
   "file_extension": ".py",
   "mimetype": "text/x-python",
   "name": "python",
   "nbconvert_exporter": "python",
   "pygments_lexer": "ipython3",
   "version": "3.7.9"
  }
 },
 "nbformat": 4,
 "nbformat_minor": 1
}
